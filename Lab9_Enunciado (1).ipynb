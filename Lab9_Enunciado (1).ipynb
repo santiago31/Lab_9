{
  "cells": [
    {
      "cell_type": "markdown",
      "metadata": {
        "cell_id": "00000-e58a33a7-5695-4e1a-8e41-ee4fad094973",
        "deepnote_cell_type": "markdown",
        "id": "XUZ1dFPHzAHl"
      },
      "source": [
        "<h1><center>Laboratorio 9: Benchmark Estadístico con Reddit 🧮</center></h1>\n",
        "\n",
        "<center><strong>MDS7202: Laboratorio de Programación Científica para Ciencia de Datos</strong></center>"
      ]
    },
    {
      "cell_type": "markdown",
      "metadata": {
        "cell_id": "00001-a6e1cf75-da72-4116-8013-b0aec5bc17ea",
        "deepnote_cell_type": "markdown",
        "id": "UD8X1uhGzAHq"
      },
      "source": [
        "### Cuerpo Docente:\n",
        "\n",
        "- Profesor: Pablo Badilla\n",
        "- Auxiliar: Ignacio Meza D.\n",
        "- Ayudante: Constanza Peña"
      ]
    },
    {
      "cell_type": "markdown",
      "metadata": {
        "cell_id": "00002-cc69b7e1-bad8-41c0-ae4a-f9a6671c3509",
        "deepnote_cell_type": "markdown",
        "id": "tXflExjqzAHr"
      },
      "source": [
        "### Equipo: SUPER IMPORTANTE - notebooks sin nombre no serán revisados\n",
        "\n",
        "- Nombre de alumno 1: Santiago Valdivieso\n",
        "- Nombre de alumno 2:\n"
      ]
    },
    {
      "cell_type": "markdown",
      "metadata": {
        "cell_id": "00003-fc7bdf37-e0ed-46b2-9ece-3f16c761f0d6",
        "deepnote_cell_type": "markdown",
        "id": "AD-V0bbZzAHr"
      },
      "source": [
        "### **Link de repositorio de GitHub:** `http://....`"
      ]
    },
    {
      "cell_type": "markdown",
      "metadata": {
        "cell_id": "00005-002cc95e-3cd9-4a83-ba9d-40b8a26bb665",
        "deepnote_cell_type": "markdown",
        "id": "6uBLPj1PzAHs"
      },
      "source": [
        "# Temas a tratar\n",
        "\n",
        "- Optimización de Código en Python.\n",
        "- Utilización de librerías para medir el tiempo de ejecución de funciones.\n",
        "- Métodos para optimizar el rendimiento de las funciones.\n",
        "\n",
        "# Reglas:\n",
        "\n",
        "- Fecha de entrega: 3/12/2021\n",
        "- **Grupos de 2 personas**\n",
        "- **Ausentes** deberán realizar la actividad solos. \n",
        "- Cualquier duda fuera del horario de clases al foro. Mensajes al equipo docente serán respondidos por este medio.\n",
        "- Prohibidas las copias. \n",
        "- Pueden usar cualquer matrial del curso que estimen conveniente.\n",
        "\n",
        "# Objetivos principales del laboratorio\n",
        "\n",
        "- Obtener datos desde Reddit a partir de la librería `praw` y visualizar cuales post son más probables que sean puntuados positivamente.\n",
        "- Aplicar un atajo estadístico para obtener la mean posterior de datos.\n",
        "- Optimizar a través de librerías funciones."
      ]
    },
    {
      "cell_type": "markdown",
      "metadata": {
        "cell_id": "00006-95054c9c-35b6-4246-8808-a9bc5019f321",
        "deepnote_cell_type": "markdown",
        "id": "MhISwri4zAHy"
      },
      "source": [
        "#Importamos librerias utiles 😸"
      ]
    },
    {
      "cell_type": "code",
      "execution_count": 1,
      "metadata": {
        "cell_id": "00007-26cb5765-42df-4c44-8039-62904faf80c9",
        "deepnote_cell_type": "code",
        "deepnote_to_be_reexecuted": false,
        "execution_millis": 11794,
        "execution_start": 1637947671330,
        "id": "cO7AQ9ciQ59U",
        "source_hash": "5f812e77"
      },
      "outputs": [],
      "source": [
        "%%capture\n",
        "!pip install praw\n",
        "!pip install line_profiler\n",
        "!pip install numba\n",
        "\n",
        "%load_ext autoreload\n",
        "%autoreload 2\n",
        "from sklearn.cluster import KMeans\n",
        "import sys\n",
        "import praw\n",
        "import time\n",
        "import numpy as np\n",
        "import pandas as pd\n",
        "from numba import jit\n",
        "import plotly.express as px\n",
        "from functools import lru_cache\n",
        "from IPython.core.display import Image"
      ]
    },
    {
      "cell_type": "markdown",
      "metadata": {
        "cell_id": "00008-42ae92fb-1318-4753-87ce-2a0d26da1b07",
        "deepnote_cell_type": "markdown",
        "id": "xpOTbQcxbSiy"
      },
      "source": [
        "# 1. Recomendando Posts de Subreddit"
      ]
    },
    {
      "cell_type": "markdown",
      "metadata": {
        "cell_id": "00009-6a4d7e77-29a6-4132-8b14-d0f9d5ea4f92",
        "deepnote_cell_type": "markdown",
        "id": "3Q93vbNS25bM"
      },
      "source": [
        "<p align=\"center\">\n",
        "  <img src=\"https://styles.redditmedia.com/t5_2rer8/styles/bannerBackgroundImage_xzrb6my122181.jpg\">\n",
        "</p>"
      ]
    },
    {
      "cell_type": "markdown",
      "metadata": {
        "cell_id": "00010-34fea2e6-4b5b-42a8-adc5-cc5ee77a6afe",
        "deepnote_cell_type": "markdown",
        "id": "jnmZfFpxTTYX"
      },
      "source": [
        "Unos intrépidos alumnos del curso, quienes frecuentemente participan en subreddits y foros de reviews, se preguntan lo siguiente: ¿Podremos confiar que un post es bueno, si este tiene solamente 1 o 3 votos positivos?. los compañeros, creen que esto claramente no representa una opinión general, ya que estamos mucho menos seguros acerca de la verdadera proporción de votos a favor de los comentarios con pocos datos. ¿Pero cómo podemos obtener una representación más creíble para este problema?.\n",
        "\n",
        "Lo señalado forma parte de un problema estadísticos, donde a través del cálculo de la posterior se puede conocer que tan probable es que un post sea bueno. Para efectos de este laboratorio, no se exige un conocimiento previo para resolver este problema, simplemente se deberá aplicar las ecuaciones presentadas más adelante (De igual forma si quedan interesados sobre el tema se les invita a tomar el ramo [CC6104](https://github.com/dccuchile/CC6104))."
      ]
    },
    {
      "cell_type": "markdown",
      "metadata": {
        "cell_id": "00011-d4a7a560-6425-4ccb-9d84-f59a9c36e3ac",
        "deepnote_cell_type": "markdown",
        "id": "xdbrb3AMi6EF"
      },
      "source": [
        "## 1.1 Obtención de Subrredits y Análisis [1 Punto]"
      ]
    },
    {
      "cell_type": "markdown",
      "metadata": {
        "cell_id": "00012-b7ddd335-dbd8-4db8-9533-07a0a75fa4e1",
        "deepnote_cell_type": "markdown",
        "id": "YI-IRspcjPee"
      },
      "source": [
        "Para estudiar que tan probable es que un post sea positivo se comenzará cargando datos reales del subreddit chile desde reddit (si usted desea puede cambiar el subreddit a uno de su gusto). Para esto le proponemos la utilización de la función que aparece mas abajo, la que presenta un usuario ya creado por el equipo docente. Dese un tiempo para entender que hace cada parte de la función, visualizando que se obtiene de estas.\n",
        "\n",
        "Revisada la función, utilice un **perfilador** para monitorear el tiempo y memoria que les toma a cada liena de código para ser ejecutada. Señale cuales son los procesos que mas tiempo consumen en la ejecución del Código, comentando si es posible mejorar el desempeño de la función.\n",
        "\n",
        "**TO-DO:**\n",
        "- [ ] Estudiar la función propuesta por el equipo docente.\n",
        "- [ ] Estudiar los tiempos de ejecución del código a través de un perfilador.\n",
        "- [ ] Estudiar la memoria ocupada por el código a través de un perfilador.\n",
        "- [ ] Comente los resultados. ¿Qué lineas ocupan más memoria o más/menos tiempo?¿Por qué?"
      ]
    },
    {
      "cell_type": "code",
      "source": [
        "%load_ext line_profiler"
      ],
      "metadata": {
        "id": "tmyoQRMoixJM"
      },
      "execution_count": 2,
      "outputs": []
    },
    {
      "cell_type": "code",
      "execution_count": 3,
      "metadata": {
        "cell_id": "00013-93efc05f-d7c4-43ab-a5e7-25678ec45bf7",
        "deepnote_cell_type": "code",
        "deepnote_to_be_reexecuted": false,
        "execution_millis": 1,
        "execution_start": 1637947497504,
        "id": "R4PQbceVPJzh",
        "source_hash": "a55fad36"
      },
      "outputs": [],
      "source": [
        "def praw_reddit(nombre_subreddit=\"chile\", n_hot=1000):\n",
        "    reddit = praw.Reddit(\n",
        "        client_id=\"-w2hyFINxZ8T3g\",\n",
        "        client_secret=\"zGPCI4s3g6Ic6AsRi7vIpP0NoxbFdw\",\n",
        "        password=\"ClasesMDS7202\",\n",
        "        user_agent=\"Clases\",\n",
        "        username=\"DocenciaDataScience\",\n",
        "        check_for_async=False,\n",
        "    )\n",
        "    subreddit = reddit.subreddit(nombre_subreddit)\n",
        "\n",
        "    votes, post, url = {}, {}, {}\n",
        "    top_submissions = list(subreddit.hot(limit=n_hot))\n",
        "    for it, top_n in enumerate(range(50, len(top_submissions), 50)):\n",
        "        top_n_submissions = top_submissions[:top_n]\n",
        "        upvotes, downvotes, url[it], post[it] = [], [], [], []\n",
        "\n",
        "        for submission in top_n_submissions:\n",
        "            try:\n",
        "                ratio = submission.upvote_ratio\n",
        "                ups = int(\n",
        "                    round((ratio * submission.score) / (2 * ratio - 1))\n",
        "                    if ratio != 0.5\n",
        "                    else round(submission.score / 2)\n",
        "                )\n",
        "                upvotes.append(ups)\n",
        "                downvotes.append(ups - submission.score)\n",
        "                post[it].append(submission.title)\n",
        "                url[it].append(submission.url)\n",
        "            except Exception as e:\n",
        "                continue\n",
        "        votes[it] = np.array([upvotes, downvotes]).T\n",
        "    return votes, post, url\n"
      ]
    },
    {
      "cell_type": "code",
      "execution_count": 4,
      "metadata": {
        "cell_id": "00014-24e5a8eb-4a22-4588-9cc4-1d3d132ca121",
        "deepnote_cell_type": "code",
        "deepnote_to_be_reexecuted": false,
        "execution_millis": 11242,
        "execution_start": 1637947497523,
        "id": "v4rjrWf_pJHJ",
        "source_hash": "4b31fefe"
      },
      "outputs": [],
      "source": [
        "votes, post, url = praw_reddit()"
      ]
    },
    {
      "cell_type": "code",
      "execution_count": 5,
      "metadata": {
        "id": "XQ2rg0t8gvCi"
      },
      "outputs": [],
      "source": [
        "%lprun -f praw_reddit praw_reddit()"
      ]
    },
    {
      "cell_type": "code",
      "source": [
        "%%file bench_module.py\n",
        "import numpy as np\n",
        "import praw\n",
        "def praw_reddit(nombre_subreddit=\"chile\", n_hot=1000):\n",
        "    reddit = praw.Reddit(\n",
        "        client_id=\"-w2hyFINxZ8T3g\",\n",
        "        client_secret=\"zGPCI4s3g6Ic6AsRi7vIpP0NoxbFdw\",\n",
        "        password=\"ClasesMDS7202\",\n",
        "        user_agent=\"Clases\",\n",
        "        username=\"DocenciaDataScience\",\n",
        "        check_for_async=False,\n",
        "    )\n",
        "    subreddit = reddit.subreddit(nombre_subreddit)\n",
        "\n",
        "    votes, post, url = {}, {}, {}\n",
        "    top_submissions = list(subreddit.hot(limit=n_hot))\n",
        "    for it, top_n in enumerate(range(50, len(top_submissions), 50)):\n",
        "        top_n_submissions = top_submissions[:top_n]\n",
        "        upvotes, downvotes, url[it], post[it] = [], [], [], []\n",
        "\n",
        "        for submission in top_n_submissions:\n",
        "            try:\n",
        "                ratio = submission.upvote_ratio\n",
        "                ups = int(\n",
        "                    round((ratio * submission.score) / (2 * ratio - 1))\n",
        "                    if ratio != 0.5\n",
        "                    else round(submission.score / 2)\n",
        "                )\n",
        "                upvotes.append(ups)\n",
        "                downvotes.append(ups - submission.score)\n",
        "                post[it].append(submission.title)\n",
        "                url[it].append(submission.url)\n",
        "            except Exception as e:\n",
        "                continue\n",
        "        votes[it] = np.array([upvotes, downvotes]).T\n",
        "    return votes, post, url"
      ],
      "metadata": {
        "colab": {
          "base_uri": "https://localhost:8080/"
        },
        "id": "6perykE8nzkK",
        "outputId": "7df065df-0883-4fc3-965a-7599e27c90c3"
      },
      "execution_count": 6,
      "outputs": [
        {
          "output_type": "stream",
          "name": "stdout",
          "text": [
            "Overwriting bench_module.py\n"
          ]
        }
      ]
    },
    {
      "cell_type": "code",
      "source": [
        "%load_ext memory_profiler"
      ],
      "metadata": {
        "id": "0x-aPH7SrhJ8"
      },
      "execution_count": 25,
      "outputs": []
    },
    {
      "cell_type": "code",
      "source": [
        "from bench_module import praw_reddit\n",
        "%mprun -f praw_reddit praw_reddit()"
      ],
      "metadata": {
        "colab": {
          "base_uri": "https://localhost:8080/"
        },
        "id": "OFN7Zzkmp0RP",
        "outputId": "5987d64e-9d9f-420f-ca10-524a280f7523"
      },
      "execution_count": 26,
      "outputs": [
        {
          "output_type": "stream",
          "name": "stderr",
          "text": [
            "\n",
            "PYDEV DEBUGGER WARNING:\n",
            "sys.settrace() should not be used when the debugger is being used.\n",
            "This may cause the debugger to stop working correctly.\n",
            "If this is needed, please check: \n",
            "http://pydev.blogspot.com/2007/06/why-cant-pydev-debugger-work-with.html\n",
            "to see how to restore the debug tracing back correctly.\n",
            "Call Location:\n",
            "  File \"/usr/local/lib/python3.7/dist-packages/memory_profiler.py\", line 845, in enable\n",
            "    sys.settrace(self.trace_memory_usage)\n",
            "\n",
            "\n",
            "PYDEV DEBUGGER WARNING:\n",
            "sys.settrace() should not be used when the debugger is being used.\n",
            "This may cause the debugger to stop working correctly.\n",
            "If this is needed, please check: \n",
            "http://pydev.blogspot.com/2007/06/why-cant-pydev-debugger-work-with.html\n",
            "to see how to restore the debug tracing back correctly.\n",
            "Call Location:\n",
            "  File \"/usr/local/lib/python3.7/dist-packages/memory_profiler.py\", line 848, in disable\n",
            "    sys.settrace(self._original_trace_function)\n",
            "\n"
          ]
        },
        {
          "output_type": "stream",
          "name": "stdout",
          "text": [
            "\n"
          ]
        }
      ]
    },
    {
      "cell_type": "markdown",
      "metadata": {
        "cell_id": "00016-51e64884-9168-46df-b5bb-96f7950e1a13",
        "deepnote_cell_type": "markdown",
        "id": "-diI_GpXmzqS"
      },
      "source": [
        "**Respuesta:**"
      ]
    },
    {
      "cell_type": "markdown",
      "metadata": {
        "cell_id": "00017-7ea262b8-c792-4f94-8dba-d8af3c5c4dd5",
        "deepnote_cell_type": "markdown",
        "id": "6gdqQBi1m_cu"
      },
      "source": [
        "La línea que ocupa más tiempo de procesamiento de la función praw_reddit es la 13 \"top_submissions = list(subreddit.hot(limit=n_hot))\" la cual tarda poco más de 13 segundos, esto ocurre porque debe extraer 1000 submisions de reddit conectándose a la red. Esta es la que toma más tiempo del código 99,3%.\n",
        "\n",
        "Por otro lado, las líneas que tardan menos tiemmpo son de la 3 a la 7 y la 33 que es el return, que demoran 1 micro segundo o menos, que son las variables con las cuales se entra a reddit, por lo que representan sólo una definición de una variable para el procesamiento y el return que simplemente devuelve el valor que ya se tiene guardado, por lo que es exigente en rendimiento.\n",
        "\n",
        "Respecto a la memoria la línea que más ocupa es la primera de la función, \"def praw_reddit(nombre_subreddit=\"chile\", n_hot=1000):\" la cual toma 406,2 Mib, en usarla, sin embargo esta no aumenta en las siguientes líneas porque los numeros  de ocurrencia son valores muy bajos(ninguno mayor a 10000)\n",
        "\n"
      ]
    },
    {
      "cell_type": "markdown",
      "metadata": {
        "cell_id": "00018-c6945fe3-eec1-4bf6-82a1-35b7ded97982",
        "deepnote_cell_type": "markdown",
        "id": "tNDS2OpFnMnH"
      },
      "source": [
        "## 1.2 LRU y Análisis de Tiempo con Cache [1 Punto]"
      ]
    },
    {
      "cell_type": "markdown",
      "metadata": {
        "cell_id": "00019-98704da0-6417-4ed9-a753-5672d5a12f03",
        "deepnote_cell_type": "markdown",
        "id": "i3nsxCbAna4t"
      },
      "source": [
        "Respondan las siguientes preguntas:\n",
        "\n",
        "1.\t¿Qué es la memoria cache y a que se refiere las siglas LRU?\n",
        "2.\t¿Cuáles son los costos que tiene la aplicación de técnicas de Caching?\n",
        "3. ¿Cuál es la consecuencía de ocupar caching en la función anterior?.\n",
        "\n",
        "Respondidas las preguntas, se le solicita que aplique alguna técnica de caching para mejorar el desempeño de la función `praw_reddit`. Para esto compare solo el tiempo de ejecución del algoritmo con y sin caching, señalando el tiempo total de ejecución y el tiempo promedio que le toma ejecutar cada loop a la función. Con lo anterior, ¿es posible visualizar mejoras en este caso?.\n",
        "\n",
        "\n",
        "**TO-DO:**\n",
        "- [ ] Responder las preguntas.\n",
        "- [ ] Mejorar el código con cache.\n",
        "- [ ] Explicar las consecuencias de usar lru_cache sobre praw_reddit"
      ]
    },
    {
      "cell_type": "markdown",
      "metadata": {
        "cell_id": "00020-774c602b-0847-483f-9d94-d3db21772a60",
        "deepnote_cell_type": "markdown",
        "id": "fbQPpvYorOAF"
      },
      "source": [
        "**Respuestas Teóricas:**"
      ]
    },
    {
      "cell_type": "markdown",
      "metadata": {
        "cell_id": "00021-9d26f5d4-f9f1-4ce3-b47a-0955d7d5528e",
        "deepnote_cell_type": "markdown",
        "id": "RKfLXDs_rO-w"
      },
      "source": [
        "`Escriba su respuesta aquí`"
      ]
    },
    {
      "cell_type": "markdown",
      "metadata": {
        "id": "gK0qMmzpgvCk"
      },
      "source": [
        "\n",
        "¿Cuál es la consecuencía de ocupar caching en la función anterior?.\n",
        "\n",
        "la memoria cache es un espacio que puede estar ubicado en memoria (RAM), disco o almacenada de manera remota. El acto de guardar resultados en memoria para luego utilizarlos de manera directa se denomina memorización y es una forma de chaching para mejorar el rendimiento de aplicaciones por medio de un uso eficiente de la memoria, una de las ideas tras esta premisa es la de guardar los resultados de operaciones intensivas. Las siglas LRU representan e l algoritmo Least Recently Used, el cual descarta primero los elementos menos usados recientemente. El algoritmo lleva el seguimiento de lo que se va usando, lo que resulta caro si se quiere hacer con precisión. La implementación de esta técnica requiere llevar la cuenta de la edad de cada elemento de caché y buscar el menos usado sobre la base de ella.\n",
        "\n",
        "Las técnicas de caching tienen un costo, este radica en aumentar el consumo de memoria, si esta memoria esta localizada en disco, el acceso puede ser muy lento y el rendimiento puede decaer drásticamente."
      ]
    },
    {
      "cell_type": "code",
      "execution_count": 8,
      "metadata": {
        "cell_id": "00022-d937bbea-3ff8-4700-a0b4-24e49e2036cc",
        "deepnote_cell_type": "code",
        "id": "X0u4WU11rLJd"
      },
      "outputs": [],
      "source": [
        "from functools import lru_cache"
      ]
    },
    {
      "cell_type": "code",
      "source": [
        "@lru_cache(maxsize=1000)\n",
        "def praw_reddit(nombre_subreddit=\"chile\", n_hot=1000):\n",
        "    reddit = praw.Reddit(\n",
        "        client_id=\"-w2hyFINxZ8T3g\",\n",
        "        client_secret=\"zGPCI4s3g6Ic6AsRi7vIpP0NoxbFdw\",\n",
        "        password=\"ClasesMDS7202\",\n",
        "        user_agent=\"Clases\",\n",
        "        username=\"DocenciaDataScience\",\n",
        "        check_for_async=False,\n",
        "    )\n",
        "    subreddit = reddit.subreddit(nombre_subreddit)\n",
        "\n",
        "    votes, post, url = {}, {}, {}\n",
        "    top_submissions = list(subreddit.hot(limit=n_hot))\n",
        "    for it, top_n in enumerate(range(50, len(top_submissions), 50)):\n",
        "        top_n_submissions = top_submissions[:top_n]\n",
        "        upvotes, downvotes, url[it], post[it] = [], [], [], []\n",
        "\n",
        "        for submission in top_n_submissions:\n",
        "            try:\n",
        "                ratio = submission.upvote_ratio\n",
        "                ups = int(\n",
        "                    round((ratio * submission.score) / (2 * ratio - 1))\n",
        "                    if ratio != 0.5\n",
        "                    else round(submission.score / 2)\n",
        "                )\n",
        "                upvotes.append(ups)\n",
        "                downvotes.append(ups - submission.score)\n",
        "                post[it].append(submission.title)\n",
        "                url[it].append(submission.url)\n",
        "            except Exception as e:\n",
        "                continue\n",
        "        votes[it] = np.array([upvotes, downvotes]).T\n",
        "    return votes, post, url\n"
      ],
      "metadata": {
        "id": "c_i3mqYL2kTz"
      },
      "execution_count": 9,
      "outputs": []
    },
    {
      "cell_type": "code",
      "source": [
        "%%timeit\n",
        "votes, post, url = praw_reddit()"
      ],
      "metadata": {
        "colab": {
          "base_uri": "https://localhost:8080/"
        },
        "id": "7lZGXw-M3TwG",
        "outputId": "e72fae69-fde9-43d4-9ee8-cea59883726a"
      },
      "execution_count": 10,
      "outputs": [
        {
          "output_type": "stream",
          "name": "stdout",
          "text": [
            "The slowest run took 36986631.62 times longer than the fastest. This could mean that an intermediate result is being cached.\n",
            "1 loop, best of 5: 356 ns per loop\n"
          ]
        }
      ]
    },
    {
      "cell_type": "markdown",
      "metadata": {
        "id": "p3ZpkJgYgvCk"
      },
      "source": [
        "**Respuesta de lru_cache sobre praw_reddit**\n",
        "Podemos ver que al aplicar %%timeit que el tiempo que demoró la iteración más lenta de la función es 63309883.73 veces mayor que la más rápida. esto es porque el resultado de la función está guardada en el cache. En este caso en particular debido a que se van generando datos por distintos tamaños de batches, se repiten las funciones distintas veces, lo que hace que al guardarlas en el caché el rendimiento total sea mucho mayor"
      ]
    },
    {
      "cell_type": "markdown",
      "metadata": {
        "cell_id": "00023-a70d4c89-5b01-4f62-b470-742d59287c02",
        "deepnote_cell_type": "markdown",
        "id": "2pS26u-trdg6"
      },
      "source": [
        "## 1.3 Obtención de Mean Posterior y Standard Error [1 Punto]\n",
        "\n",
        "Una forma de obtener la mean posterior y el Standard Error de los datos de reddit es aplicando un atajo de inferencia estadística. Este atajo se define de la siguiente forma:\n",
        "\n",
        "Sea **u** los votos positivos y **d** los votos negativos del subreddit, tendremos que:\n",
        "\n",
        "$$a = 1+u$$\n",
        "\n",
        "$$b = 1+d$$\n",
        "\n",
        "$$\\sigma= 1.65\\sqrt(\\dfrac{ab}{(a + b)^2(a + b + 1)})$$\n",
        "\n",
        "$$\\mu = \\dfrac{a}{a+b}$$\n",
        "\n",
        "Donde $\\mu$ es la mean posterior y $\\sigma$ el standard error.\n",
        "\n",
        "Con lo anterior, genere dos funciones que tengan como salida $\\mu$ y $\\sigma$ de acuerdo a las ecuaciones señaladas. La primera función, deberá ser construida sin el uso de numpy, aplicando for y aplicando comandos nativos de Python. Por otro lado, deberá generar una segunda función con el uso exclusivo de numpy. **OJO** que las funciones deben tener como entrada solo un elemento del diccionario votes (por ejemplo `votes[1]`), por lo que estas no deben tener como entrada el conjunto completo de datos."
      ]
    },
    {
      "cell_type": "code",
      "source": [
        "def funcion11(votos):\n",
        "  Media=[]\n",
        "  desv=[]\n",
        "  for i in range(len(votos)):\n",
        "    positivos = votos[i][0]\n",
        "    negativos = votos[i][1]\n",
        "    a=1+positivos\n",
        "    b=1+negativos\n",
        "    media=a/(a+b)\n",
        "    desviación=1.65*(((a*b)/(((a*b)**2)*(a+b+1)))*0.5)\n",
        "    Media.append(media)\n",
        "    desv.append(desviación)\n",
        "\n",
        "  return Media,desv"
      ],
      "metadata": {
        "id": "funJq2Cvjnes"
      },
      "execution_count": 11,
      "outputs": []
    },
    {
      "cell_type": "code",
      "source": [
        "def funcion22(votos):\n",
        "  a=1+votos[:,0]\n",
        "  b=1+votos[:,1]\n",
        "  media=a/(a+b)\n",
        "  desviación=1.65*(((a*b)/(((a*b)**2)*(a+b+1)))*0.5)\n",
        "  return media, desviación"
      ],
      "metadata": {
        "id": "W1Ae69LlkPB6"
      },
      "execution_count": 12,
      "outputs": []
    },
    {
      "cell_type": "code",
      "source": [
        "%timeit funcion11(votes[0])"
      ],
      "metadata": {
        "colab": {
          "base_uri": "https://localhost:8080/"
        },
        "id": "xiAN8i8Dj_Yh",
        "outputId": "28f2f04d-5ad7-41cb-ee3e-22dc873ed95e"
      },
      "execution_count": 13,
      "outputs": [
        {
          "output_type": "stream",
          "name": "stdout",
          "text": [
            "1000 loops, best of 5: 161 µs per loop\n"
          ]
        }
      ]
    },
    {
      "cell_type": "code",
      "source": [
        "%timeit funcion22(votes[0])"
      ],
      "metadata": {
        "colab": {
          "base_uri": "https://localhost:8080/"
        },
        "id": "EKILEsqPmgbI",
        "outputId": "aebe73de-57d1-45d9-9cac-7e51fc004f7b"
      },
      "execution_count": 14,
      "outputs": [
        {
          "output_type": "stream",
          "name": "stdout",
          "text": [
            "The slowest run took 7.65 times longer than the fastest. This could mean that an intermediate result is being cached.\n",
            "100000 loops, best of 5: 13.2 µs per loop\n"
          ]
        }
      ]
    },
    {
      "cell_type": "code",
      "source": [
        "funcion11(votes[0])"
      ],
      "metadata": {
        "colab": {
          "base_uri": "https://localhost:8080/"
        },
        "id": "bnJeht-NoZ_Q",
        "outputId": "bef723ef-d09e-4129-9c4d-2a192aacfd72"
      },
      "execution_count": 15,
      "outputs": [
        {
          "output_type": "execute_result",
          "data": {
            "text/plain": [
              "([0.822429906542056,\n",
              "  0.9389067524115756,\n",
              "  0.9186046511627907,\n",
              "  0.9813664596273292,\n",
              "  0.8388888888888889,\n",
              "  0.8769230769230769,\n",
              "  0.9345794392523364,\n",
              "  0.9259259259259259,\n",
              "  0.9741379310344828,\n",
              "  0.9467213114754098,\n",
              "  0.9142857142857143,\n",
              "  0.9494949494949495,\n",
              "  0.8961038961038961,\n",
              "  0.7924528301886793,\n",
              "  0.8918918918918919,\n",
              "  0.8333333333333334,\n",
              "  0.8695652173913043,\n",
              "  0.8787878787878788,\n",
              "  0.6770833333333334,\n",
              "  0.7843137254901961,\n",
              "  0.9385593220338984,\n",
              "  0.9565217391304348,\n",
              "  0.9166666666666666,\n",
              "  0.875,\n",
              "  0.8105263157894737,\n",
              "  0.9264705882352942,\n",
              "  0.9789473684210527,\n",
              "  0.9,\n",
              "  0.9758620689655172,\n",
              "  0.6666666666666666,\n",
              "  0.8762886597938144,\n",
              "  0.8333333333333334,\n",
              "  0.917910447761194,\n",
              "  0.9532163742690059,\n",
              "  0.9794584500466853,\n",
              "  0.918918918918919,\n",
              "  0.8913043478260869,\n",
              "  0.8823529411764706,\n",
              "  0.9130434782608695,\n",
              "  0.8669527896995708,\n",
              "  0.972027972027972,\n",
              "  0.8701298701298701,\n",
              "  0.7368421052631579,\n",
              "  0.9259259259259259,\n",
              "  0.8,\n",
              "  0.9259259259259259,\n",
              "  0.9953917050691244,\n",
              "  0.7777777777777778,\n",
              "  0.8105263157894737,\n",
              "  0.625],\n",
              " [4.568713450292397e-06,\n",
              "  5.967184391639403e-08,\n",
              "  1.384559227667689e-07,\n",
              "  1.0743866229098296e-05,\n",
              "  1.3047034480228285e-07,\n",
              "  3.452691844114102e-06,\n",
              "  1.0912698412698412e-05,\n",
              "  9.461009174311926e-06,\n",
              "  2.080024203918009e-05,\n",
              "  1.1213276519398968e-06,\n",
              "  9.008123689727462e-06,\n",
              "  1.7553191489361703e-05,\n",
              "  1.916109253065775e-05,\n",
              "  3.306878306878307e-05,\n",
              "  0.0001644736842105263,\n",
              "  1.2358624822110703e-05,\n",
              "  7.313829787234043e-05,\n",
              "  0.00020917849898580121,\n",
              "  4.220920416464147e-06,\n",
              "  3.6057692307692304e-05,\n",
              "  1.3576601903258564e-07,\n",
              "  0.00019946808510638297,\n",
              "  0.005769230769230769,\n",
              "  0.0017331932773109243,\n",
              "  6.200396825396825e-06,\n",
              "  5.995988138845281e-07,\n",
              "  6.39708646441638e-08,\n",
              "  0.008333333333333333,\n",
              "  1.4311214267500013e-06,\n",
              "  1.4615221088435374e-05,\n",
              "  1.0369532428355957e-06,\n",
              "  0.0004125,\n",
              "  5.666878230120591e-07,\n",
              "  3.678306463118847e-06,\n",
              "  3.3347324388543454e-08,\n",
              "  2.696078431372549e-05,\n",
              "  3.216938644206586e-06,\n",
              "  0.0015277777777777779,\n",
              "  3.9254310837044645e-06,\n",
              "  5.630215627021758e-07,\n",
              "  1.030425659472422e-05,\n",
              "  1.5786452353616534e-05,\n",
              "  0.0005892857142857143,\n",
              "  1.1880760368663593e-06,\n",
              "  0.0046875,\n",
              "  9.461009174311926e-06,\n",
              "  1.7520387359836903e-05,\n",
              "  0.0007753759398496239,\n",
              "  6.200396825396825e-06,\n",
              "  0.006111111111111111])"
            ]
          },
          "metadata": {},
          "execution_count": 15
        }
      ]
    },
    {
      "cell_type": "code",
      "source": [
        "funcion22(votes[0])"
      ],
      "metadata": {
        "colab": {
          "base_uri": "https://localhost:8080/"
        },
        "id": "OrHgdTtbodlx",
        "outputId": "eb4b33c7-45a6-4c41-fea0-0a5977180252"
      },
      "execution_count": 16,
      "outputs": [
        {
          "output_type": "execute_result",
          "data": {
            "text/plain": [
              "(array([0.82242991, 0.93890675, 0.91860465, 0.98136646, 0.83888889,\n",
              "        0.87692308, 0.93457944, 0.92592593, 0.97413793, 0.94672131,\n",
              "        0.91428571, 0.94949495, 0.8961039 , 0.79245283, 0.89189189,\n",
              "        0.83333333, 0.86956522, 0.87878788, 0.67708333, 0.78431373,\n",
              "        0.93855932, 0.95652174, 0.91666667, 0.875     , 0.81052632,\n",
              "        0.92647059, 0.97894737, 0.9       , 0.97586207, 0.66666667,\n",
              "        0.87628866, 0.83333333, 0.91791045, 0.95321637, 0.97945845,\n",
              "        0.91891892, 0.89130435, 0.88235294, 0.91304348, 0.86695279,\n",
              "        0.97202797, 0.87012987, 0.73684211, 0.92592593, 0.8       ,\n",
              "        0.92592593, 0.99539171, 0.77777778, 0.81052632, 0.625     ]),\n",
              " array([4.56871345e-06, 5.96718439e-08, 1.38455923e-07, 1.07438662e-05,\n",
              "        1.30470345e-07, 3.45269184e-06, 1.09126984e-05, 9.46100917e-06,\n",
              "        2.08002420e-05, 1.12132765e-06, 9.00812369e-06, 1.75531915e-05,\n",
              "        1.91610925e-05, 3.30687831e-05, 1.64473684e-04, 1.23586248e-05,\n",
              "        7.31382979e-05, 2.09178499e-04, 4.22092042e-06, 3.60576923e-05,\n",
              "        1.35766019e-07, 1.99468085e-04, 5.76923077e-03, 1.73319328e-03,\n",
              "        6.20039683e-06, 5.99598814e-07, 6.39708646e-08, 8.33333333e-03,\n",
              "        1.43112143e-06, 1.46152211e-05, 1.03695324e-06, 4.12500000e-04,\n",
              "        5.66687823e-07, 3.67830646e-06, 3.33473244e-08, 2.69607843e-05,\n",
              "        3.21693864e-06, 1.52777778e-03, 3.92543108e-06, 5.63021563e-07,\n",
              "        1.03042566e-05, 1.57864524e-05, 5.89285714e-04, 1.18807604e-06,\n",
              "        4.68750000e-03, 9.46100917e-06, 1.75203874e-05, 7.75375940e-04,\n",
              "        6.20039683e-06, 6.11111111e-03]))"
            ]
          },
          "metadata": {},
          "execution_count": 16
        }
      ]
    },
    {
      "cell_type": "code",
      "source": [
        ""
      ],
      "metadata": {
        "id": "Xr3P_F7Cobxw"
      },
      "execution_count": 16,
      "outputs": []
    },
    {
      "cell_type": "markdown",
      "metadata": {
        "cell_id": "00025-276ba904-2ebf-4b01-8355-00f104cd0aba",
        "deepnote_cell_type": "markdown",
        "id": "VhHhiTRYwpGu"
      },
      "source": [
        "## 1.4 Comparación de Rendimiento [2 Puntos]\n",
        "\n",
        "Creadas las funciones de la sección 1.3, de forma iterativa compare los diferentes batches de datos que contiene el diccionario `votes`. Para esto genere un gráfico utilizando plotly, donde se pueda observar las diferencias de tiempo que toma ejecutar las diferentes cantidades de datos. ¿es posible observar una diferencia? ¿a qué se deberá esto?.\n",
        "\n",
        "Aplique el compilador **Numba** sobre las funciones 1.3 y compare el tiempo de ejecución con los obtenidos sin el compilador. "
      ]
    },
    {
      "cell_type": "code",
      "source": [
        "from numba import jit\n",
        "@jit(nopython=True)\n",
        "def funcion11_numba(votos):\n",
        "  positivos=0\n",
        "  negativos=0\n",
        "  for i in range(len(votos)):\n",
        "    positivos = positivos+ votos[i][0]\n",
        "    negativos = negativos + votos[i][1]\n",
        "  a=1+positivos\n",
        "  b=1+negativos\n",
        "  media=a/(a+b)\n",
        "  desviación=1.65*(((a*b)/(((a*b)**2)*(a+b+1)))*0.5)\n",
        "  return media, desviación\n",
        "\n",
        "@jit(nopython=True)\n",
        "def funcion22_numba(votos):\n",
        "  a=1+np.sum((votos)[:,0])\n",
        "  b=1+np.sum((votos)[:,1])\n",
        "  media=a/(a+b)\n",
        "  desviación=1.65*(((a*b)/(((a*b)**2)*(a+b+1)))*0.5)\n",
        "  return media, desviación"
      ],
      "metadata": {
        "id": "8gQf1yNIm2dU"
      },
      "execution_count": 17,
      "outputs": []
    },
    {
      "cell_type": "code",
      "source": [
        "tiempo2=[]\n",
        "for i in range(len(votes)):\n",
        "  t0 = time.process_time()\n",
        "  funcion11(votes[i])\n",
        "  t1 = time.process_time()\n",
        "  funcion11_numba(votes[i])\n",
        "  t2 = time.process_time()\n",
        "  funcion22(votes[i])\n",
        "  t3 = time.process_time()\n",
        "  a=np.array(votes[i])\n",
        "  t4 = time.process_time()  \n",
        "  funcion22_numba(a)\n",
        "  t5 = time.process_time()\n",
        "  tiempo2.append([len(votes[i]),(t1-t0),(t2-t1),(t3-t2),(t5-t4)])\n",
        "\n",
        "df = pd.DataFrame(np.array(tiempo2), \n",
        "             columns=['Cantidades', \n",
        "                      'Función Nativa',\n",
        "                      'Función Nativa Numba', \n",
        "                      'Función Numpy',\n",
        "                      'Función Numpy Numba'])"
      ],
      "metadata": {
        "id": "TO5IRlsQm6H-"
      },
      "execution_count": 21,
      "outputs": []
    },
    {
      "cell_type": "code",
      "source": [
        "fig = px.line(df, x=\"Cantidades\", y=['Función Nativa','Función Nativa Numba','Función Numpy','Función Numpy Numba'])\n",
        "fig.show()"
      ],
      "metadata": {
        "colab": {
          "base_uri": "https://localhost:8080/",
          "height": 542
        },
        "id": "lYWey_6snCt6",
        "outputId": "e63211e2-ce58-4f36-b1db-c12f46f56c41"
      },
      "execution_count": 22,
      "outputs": [
        {
          "output_type": "display_data",
          "data": {
            "text/html": [
              "<html>\n",
              "<head><meta charset=\"utf-8\" /></head>\n",
              "<body>\n",
              "    <div>            <script src=\"https://cdnjs.cloudflare.com/ajax/libs/mathjax/2.7.5/MathJax.js?config=TeX-AMS-MML_SVG\"></script><script type=\"text/javascript\">if (window.MathJax) {MathJax.Hub.Config({SVG: {font: \"STIX-Web\"}});}</script>                <script type=\"text/javascript\">window.PlotlyConfig = {MathJaxConfig: 'local'};</script>\n",
              "        <script src=\"https://cdn.plot.ly/plotly-latest.min.js\"></script>                <div id=\"e18b024c-e003-4a8d-a15d-f25318a8978d\" class=\"plotly-graph-div\" style=\"height:525px; width:100%;\"></div>            <script type=\"text/javascript\">                                    window.PLOTLYENV=window.PLOTLYENV || {};                                    if (document.getElementById(\"e18b024c-e003-4a8d-a15d-f25318a8978d\")) {                    Plotly.newPlot(                        \"e18b024c-e003-4a8d-a15d-f25318a8978d\",                        [{\"hovertemplate\": \"variable=Funci\\u00f3n Nativa<br>Cantidades=%{x}<br>value=%{y}<extra></extra>\", \"legendgroup\": \"Funci\\u00f3n Nativa\", \"line\": {\"color\": \"#636efa\", \"dash\": \"solid\"}, \"mode\": \"lines\", \"name\": \"Funci\\u00f3n Nativa\", \"orientation\": \"v\", \"showlegend\": true, \"type\": \"scatter\", \"x\": [50.0, 100.0, 150.0, 200.0, 250.0, 300.0, 350.0, 400.0, 450.0, 500.0, 550.0, 600.0, 650.0, 700.0, 750.0, 800.0, 850.0, 900.0, 950.0], \"xaxis\": \"x\", \"y\": [0.0002431789999981504, 0.00033143699999982346, 0.0004891340000021671, 0.0006564830000002075, 0.0008536130000003084, 0.0009596539999989773, 0.001122506999998052, 0.001441528000000858, 0.0014819260000002998, 0.0016444429999999954, 0.001796697999999708, 0.0019463030000004267, 0.0020983860000001187, 0.0022723310000003494, 0.0024366280000016616, 0.002603759000002981, 0.0026953570000003424, 0.002926572999999877, 0.0032414459999969836], \"yaxis\": \"y\"}, {\"hovertemplate\": \"variable=Funci\\u00f3n Nativa Numba<br>Cantidades=%{x}<br>value=%{y}<extra></extra>\", \"legendgroup\": \"Funci\\u00f3n Nativa Numba\", \"line\": {\"color\": \"#EF553B\", \"dash\": \"solid\"}, \"mode\": \"lines\", \"name\": \"Funci\\u00f3n Nativa Numba\", \"orientation\": \"v\", \"showlegend\": true, \"type\": \"scatter\", \"x\": [50.0, 100.0, 150.0, 200.0, 250.0, 300.0, 350.0, 400.0, 450.0, 500.0, 550.0, 600.0, 650.0, 700.0, 750.0, 800.0, 850.0, 900.0, 950.0], \"xaxis\": \"x\", \"y\": [1.0723999999129319e-05, 1.9729999998219228e-06, 1.957999998580817e-06, 1.9040000012182645e-06, 3.1140000018581304e-06, 2.3880000021847536e-06, 2.80100000082939e-06, 9.96599999680825e-06, 3.3170000008908573e-06, 3.5790000012525525e-06, 3.4619999986773564e-06, 3.2640000000583314e-06, 3.1739999997171253e-06, 4.144999998345611e-06, 4.0699999992455105e-06, 4.195999999012656e-06, 3.454000001568147e-06, 3.973999998407862e-06, 8.093000001707651e-06], \"yaxis\": \"y\"}, {\"hovertemplate\": \"variable=Funci\\u00f3n Numpy<br>Cantidades=%{x}<br>value=%{y}<extra></extra>\", \"legendgroup\": \"Funci\\u00f3n Numpy\", \"line\": {\"color\": \"#00cc96\", \"dash\": \"solid\"}, \"mode\": \"lines\", \"name\": \"Funci\\u00f3n Numpy\", \"orientation\": \"v\", \"showlegend\": true, \"type\": \"scatter\", \"x\": [50.0, 100.0, 150.0, 200.0, 250.0, 300.0, 350.0, 400.0, 450.0, 500.0, 550.0, 600.0, 650.0, 700.0, 750.0, 800.0, 850.0, 900.0, 950.0], \"xaxis\": \"x\", \"y\": [5.007900000109089e-05, 2.05730000004678e-05, 2.112900000028617e-05, 2.0967000001093083e-05, 6.785899999783851e-05, 2.5501999999733016e-05, 3.405900000075235e-05, 4.978600000171696e-05, 2.796200000076965e-05, 3.196999999843797e-05, 3.767000000109988e-05, 3.0098999999950138e-05, 4.1801999998369865e-05, 3.1125000003129344e-05, 0.00014037300000069308, 4.1617000000826465e-05, 0.0001675030000001243, 3.654900000071848e-05, 4.136999999815316e-05], \"yaxis\": \"y\"}, {\"hovertemplate\": \"variable=Funci\\u00f3n Numpy Numba<br>Cantidades=%{x}<br>value=%{y}<extra></extra>\", \"legendgroup\": \"Funci\\u00f3n Numpy Numba\", \"line\": {\"color\": \"#ab63fa\", \"dash\": \"solid\"}, \"mode\": \"lines\", \"name\": \"Funci\\u00f3n Numpy Numba\", \"orientation\": \"v\", \"showlegend\": true, \"type\": \"scatter\", \"x\": [50.0, 100.0, 150.0, 200.0, 250.0, 300.0, 350.0, 400.0, 450.0, 500.0, 550.0, 600.0, 650.0, 700.0, 750.0, 800.0, 850.0, 900.0, 950.0], \"xaxis\": \"x\", \"y\": [3.499999998268777e-06, 1.991999997841276e-06, 1.773000001037417e-06, 1.8760000024542478e-06, 2.070999997272338e-06, 1.7999999997186933e-06, 1.9360000003132427e-06, 3.125999999298301e-06, 2.2279999996044353e-06, 2.297999998290834e-06, 2.283000000602442e-06, 2.0989999995890685e-06, 2.4429999996300467e-06, 2.5589999985697887e-06, 3.6209999976222207e-06, 2.3659999968117518e-06, 3.976999998656083e-06, 2.4459999998782678e-06, 3.2650000001410717e-06], \"yaxis\": \"y\"}],                        {\"legend\": {\"title\": {\"text\": \"variable\"}, \"tracegroupgap\": 0}, \"margin\": {\"t\": 60}, \"template\": {\"data\": {\"bar\": [{\"error_x\": {\"color\": \"#2a3f5f\"}, \"error_y\": {\"color\": \"#2a3f5f\"}, \"marker\": {\"line\": {\"color\": \"#E5ECF6\", \"width\": 0.5}}, \"type\": \"bar\"}], \"barpolar\": [{\"marker\": {\"line\": {\"color\": \"#E5ECF6\", \"width\": 0.5}}, \"type\": \"barpolar\"}], \"carpet\": [{\"aaxis\": {\"endlinecolor\": \"#2a3f5f\", \"gridcolor\": \"white\", \"linecolor\": \"white\", \"minorgridcolor\": \"white\", \"startlinecolor\": \"#2a3f5f\"}, \"baxis\": {\"endlinecolor\": \"#2a3f5f\", \"gridcolor\": \"white\", \"linecolor\": \"white\", \"minorgridcolor\": \"white\", \"startlinecolor\": \"#2a3f5f\"}, \"type\": \"carpet\"}], \"choropleth\": [{\"colorbar\": {\"outlinewidth\": 0, \"ticks\": \"\"}, \"type\": \"choropleth\"}], \"contour\": [{\"colorbar\": {\"outlinewidth\": 0, \"ticks\": \"\"}, \"colorscale\": [[0.0, \"#0d0887\"], [0.1111111111111111, \"#46039f\"], [0.2222222222222222, \"#7201a8\"], [0.3333333333333333, \"#9c179e\"], [0.4444444444444444, \"#bd3786\"], [0.5555555555555556, \"#d8576b\"], [0.6666666666666666, \"#ed7953\"], [0.7777777777777778, \"#fb9f3a\"], [0.8888888888888888, \"#fdca26\"], [1.0, \"#f0f921\"]], \"type\": \"contour\"}], \"contourcarpet\": [{\"colorbar\": {\"outlinewidth\": 0, \"ticks\": \"\"}, \"type\": \"contourcarpet\"}], \"heatmap\": [{\"colorbar\": {\"outlinewidth\": 0, \"ticks\": \"\"}, \"colorscale\": [[0.0, \"#0d0887\"], [0.1111111111111111, \"#46039f\"], [0.2222222222222222, \"#7201a8\"], [0.3333333333333333, \"#9c179e\"], [0.4444444444444444, \"#bd3786\"], [0.5555555555555556, \"#d8576b\"], [0.6666666666666666, \"#ed7953\"], [0.7777777777777778, \"#fb9f3a\"], [0.8888888888888888, \"#fdca26\"], [1.0, \"#f0f921\"]], \"type\": \"heatmap\"}], \"heatmapgl\": [{\"colorbar\": {\"outlinewidth\": 0, \"ticks\": \"\"}, \"colorscale\": [[0.0, \"#0d0887\"], [0.1111111111111111, \"#46039f\"], [0.2222222222222222, \"#7201a8\"], [0.3333333333333333, \"#9c179e\"], [0.4444444444444444, \"#bd3786\"], [0.5555555555555556, \"#d8576b\"], [0.6666666666666666, \"#ed7953\"], [0.7777777777777778, \"#fb9f3a\"], [0.8888888888888888, \"#fdca26\"], [1.0, \"#f0f921\"]], \"type\": \"heatmapgl\"}], \"histogram\": [{\"marker\": {\"colorbar\": {\"outlinewidth\": 0, \"ticks\": \"\"}}, \"type\": \"histogram\"}], \"histogram2d\": [{\"colorbar\": {\"outlinewidth\": 0, \"ticks\": \"\"}, \"colorscale\": [[0.0, \"#0d0887\"], [0.1111111111111111, \"#46039f\"], [0.2222222222222222, \"#7201a8\"], [0.3333333333333333, \"#9c179e\"], [0.4444444444444444, \"#bd3786\"], [0.5555555555555556, \"#d8576b\"], [0.6666666666666666, \"#ed7953\"], [0.7777777777777778, \"#fb9f3a\"], [0.8888888888888888, \"#fdca26\"], [1.0, \"#f0f921\"]], \"type\": \"histogram2d\"}], \"histogram2dcontour\": [{\"colorbar\": {\"outlinewidth\": 0, \"ticks\": \"\"}, \"colorscale\": [[0.0, \"#0d0887\"], [0.1111111111111111, \"#46039f\"], [0.2222222222222222, \"#7201a8\"], [0.3333333333333333, \"#9c179e\"], [0.4444444444444444, \"#bd3786\"], [0.5555555555555556, \"#d8576b\"], [0.6666666666666666, \"#ed7953\"], [0.7777777777777778, \"#fb9f3a\"], [0.8888888888888888, \"#fdca26\"], [1.0, \"#f0f921\"]], \"type\": \"histogram2dcontour\"}], \"mesh3d\": [{\"colorbar\": {\"outlinewidth\": 0, \"ticks\": \"\"}, \"type\": \"mesh3d\"}], \"parcoords\": [{\"line\": {\"colorbar\": {\"outlinewidth\": 0, \"ticks\": \"\"}}, \"type\": \"parcoords\"}], \"pie\": [{\"automargin\": true, \"type\": \"pie\"}], \"scatter\": [{\"marker\": {\"colorbar\": {\"outlinewidth\": 0, \"ticks\": \"\"}}, \"type\": \"scatter\"}], \"scatter3d\": [{\"line\": {\"colorbar\": {\"outlinewidth\": 0, \"ticks\": \"\"}}, \"marker\": {\"colorbar\": {\"outlinewidth\": 0, \"ticks\": \"\"}}, \"type\": \"scatter3d\"}], \"scattercarpet\": [{\"marker\": {\"colorbar\": {\"outlinewidth\": 0, \"ticks\": \"\"}}, \"type\": \"scattercarpet\"}], \"scattergeo\": [{\"marker\": {\"colorbar\": {\"outlinewidth\": 0, \"ticks\": \"\"}}, \"type\": \"scattergeo\"}], \"scattergl\": [{\"marker\": {\"colorbar\": {\"outlinewidth\": 0, \"ticks\": \"\"}}, \"type\": \"scattergl\"}], \"scattermapbox\": [{\"marker\": {\"colorbar\": {\"outlinewidth\": 0, \"ticks\": \"\"}}, \"type\": \"scattermapbox\"}], \"scatterpolar\": [{\"marker\": {\"colorbar\": {\"outlinewidth\": 0, \"ticks\": \"\"}}, \"type\": \"scatterpolar\"}], \"scatterpolargl\": [{\"marker\": {\"colorbar\": {\"outlinewidth\": 0, \"ticks\": \"\"}}, \"type\": \"scatterpolargl\"}], \"scatterternary\": [{\"marker\": {\"colorbar\": {\"outlinewidth\": 0, \"ticks\": \"\"}}, \"type\": \"scatterternary\"}], \"surface\": [{\"colorbar\": {\"outlinewidth\": 0, \"ticks\": \"\"}, \"colorscale\": [[0.0, \"#0d0887\"], [0.1111111111111111, \"#46039f\"], [0.2222222222222222, \"#7201a8\"], [0.3333333333333333, \"#9c179e\"], [0.4444444444444444, \"#bd3786\"], [0.5555555555555556, \"#d8576b\"], [0.6666666666666666, \"#ed7953\"], [0.7777777777777778, \"#fb9f3a\"], [0.8888888888888888, \"#fdca26\"], [1.0, \"#f0f921\"]], \"type\": \"surface\"}], \"table\": [{\"cells\": {\"fill\": {\"color\": \"#EBF0F8\"}, \"line\": {\"color\": \"white\"}}, \"header\": {\"fill\": {\"color\": \"#C8D4E3\"}, \"line\": {\"color\": \"white\"}}, \"type\": \"table\"}]}, \"layout\": {\"annotationdefaults\": {\"arrowcolor\": \"#2a3f5f\", \"arrowhead\": 0, \"arrowwidth\": 1}, \"autotypenumbers\": \"strict\", \"coloraxis\": {\"colorbar\": {\"outlinewidth\": 0, \"ticks\": \"\"}}, \"colorscale\": {\"diverging\": [[0, \"#8e0152\"], [0.1, \"#c51b7d\"], [0.2, \"#de77ae\"], [0.3, \"#f1b6da\"], [0.4, \"#fde0ef\"], [0.5, \"#f7f7f7\"], [0.6, \"#e6f5d0\"], [0.7, \"#b8e186\"], [0.8, \"#7fbc41\"], [0.9, \"#4d9221\"], [1, \"#276419\"]], \"sequential\": [[0.0, \"#0d0887\"], [0.1111111111111111, \"#46039f\"], [0.2222222222222222, \"#7201a8\"], [0.3333333333333333, \"#9c179e\"], [0.4444444444444444, \"#bd3786\"], [0.5555555555555556, \"#d8576b\"], [0.6666666666666666, \"#ed7953\"], [0.7777777777777778, \"#fb9f3a\"], [0.8888888888888888, \"#fdca26\"], [1.0, \"#f0f921\"]], \"sequentialminus\": [[0.0, \"#0d0887\"], [0.1111111111111111, \"#46039f\"], [0.2222222222222222, \"#7201a8\"], [0.3333333333333333, \"#9c179e\"], [0.4444444444444444, \"#bd3786\"], [0.5555555555555556, \"#d8576b\"], [0.6666666666666666, \"#ed7953\"], [0.7777777777777778, \"#fb9f3a\"], [0.8888888888888888, \"#fdca26\"], [1.0, \"#f0f921\"]]}, \"colorway\": [\"#636efa\", \"#EF553B\", \"#00cc96\", \"#ab63fa\", \"#FFA15A\", \"#19d3f3\", \"#FF6692\", \"#B6E880\", \"#FF97FF\", \"#FECB52\"], \"font\": {\"color\": \"#2a3f5f\"}, \"geo\": {\"bgcolor\": \"white\", \"lakecolor\": \"white\", \"landcolor\": \"#E5ECF6\", \"showlakes\": true, \"showland\": true, \"subunitcolor\": \"white\"}, \"hoverlabel\": {\"align\": \"left\"}, \"hovermode\": \"closest\", \"mapbox\": {\"style\": \"light\"}, \"paper_bgcolor\": \"white\", \"plot_bgcolor\": \"#E5ECF6\", \"polar\": {\"angularaxis\": {\"gridcolor\": \"white\", \"linecolor\": \"white\", \"ticks\": \"\"}, \"bgcolor\": \"#E5ECF6\", \"radialaxis\": {\"gridcolor\": \"white\", \"linecolor\": \"white\", \"ticks\": \"\"}}, \"scene\": {\"xaxis\": {\"backgroundcolor\": \"#E5ECF6\", \"gridcolor\": \"white\", \"gridwidth\": 2, \"linecolor\": \"white\", \"showbackground\": true, \"ticks\": \"\", \"zerolinecolor\": \"white\"}, \"yaxis\": {\"backgroundcolor\": \"#E5ECF6\", \"gridcolor\": \"white\", \"gridwidth\": 2, \"linecolor\": \"white\", \"showbackground\": true, \"ticks\": \"\", \"zerolinecolor\": \"white\"}, \"zaxis\": {\"backgroundcolor\": \"#E5ECF6\", \"gridcolor\": \"white\", \"gridwidth\": 2, \"linecolor\": \"white\", \"showbackground\": true, \"ticks\": \"\", \"zerolinecolor\": \"white\"}}, \"shapedefaults\": {\"line\": {\"color\": \"#2a3f5f\"}}, \"ternary\": {\"aaxis\": {\"gridcolor\": \"white\", \"linecolor\": \"white\", \"ticks\": \"\"}, \"baxis\": {\"gridcolor\": \"white\", \"linecolor\": \"white\", \"ticks\": \"\"}, \"bgcolor\": \"#E5ECF6\", \"caxis\": {\"gridcolor\": \"white\", \"linecolor\": \"white\", \"ticks\": \"\"}}, \"title\": {\"x\": 0.05}, \"xaxis\": {\"automargin\": true, \"gridcolor\": \"white\", \"linecolor\": \"white\", \"ticks\": \"\", \"title\": {\"standoff\": 15}, \"zerolinecolor\": \"white\", \"zerolinewidth\": 2}, \"yaxis\": {\"automargin\": true, \"gridcolor\": \"white\", \"linecolor\": \"white\", \"ticks\": \"\", \"title\": {\"standoff\": 15}, \"zerolinecolor\": \"white\", \"zerolinewidth\": 2}}}, \"xaxis\": {\"anchor\": \"y\", \"domain\": [0.0, 1.0], \"title\": {\"text\": \"Cantidades\"}}, \"yaxis\": {\"anchor\": \"x\", \"domain\": [0.0, 1.0], \"title\": {\"text\": \"value\"}}},                        {\"responsive\": true}                    ).then(function(){\n",
              "                            \n",
              "var gd = document.getElementById('e18b024c-e003-4a8d-a15d-f25318a8978d');\n",
              "var x = new MutationObserver(function (mutations, observer) {{\n",
              "        var display = window.getComputedStyle(gd).display;\n",
              "        if (!display || display === 'none') {{\n",
              "            console.log([gd, 'removed!']);\n",
              "            Plotly.purge(gd);\n",
              "            observer.disconnect();\n",
              "        }}\n",
              "}});\n",
              "\n",
              "// Listen for the removal of the full notebook cells\n",
              "var notebookContainer = gd.closest('#notebook-container');\n",
              "if (notebookContainer) {{\n",
              "    x.observe(notebookContainer, {childList: true});\n",
              "}}\n",
              "\n",
              "// Listen for the clearing of the current output cell\n",
              "var outputEl = gd.closest('.output');\n",
              "if (outputEl) {{\n",
              "    x.observe(outputEl, {childList: true});\n",
              "}}\n",
              "\n",
              "                        })                };                            </script>        </div>\n",
              "</body>\n",
              "</html>"
            ]
          },
          "metadata": {}
        }
      ]
    },
    {
      "cell_type": "markdown",
      "metadata": {
        "id": "Fur74faogvCm"
      },
      "source": [
        "Ahora, grafiquen los tiempos tomados y comente los desempeños.\n",
        "\n",
        "**Nota:** Ejecuten las funciones compiladas con algún ejemplo antes de graficar. De lo contrario, les indicará el tiempo de compilación, cosa que no queremos medir"
      ]
    },
    {
      "cell_type": "markdown",
      "source": [
        "Podemos ver que el orden de rendimiento de las funciones son las Numba tanto en numpy como nativa son las más rápidas. Luego la función cn nupy y finalmente la que más aumenta el tiempo de ejecución según la cantidad de elementos es la nativa.\n",
        "\n",
        "Si se hac zoom en el gráfico (no se alcanza a apreciar en sin zoom) la función numpy usando numba es más rápida que la nativa."
      ],
      "metadata": {
        "id": "FPDI2v9ReLDy"
      }
    },
    {
      "cell_type": "markdown",
      "metadata": {
        "cell_id": "00028-19d4d7d5-b8cc-4e02-b9b1-661b163db40b",
        "deepnote_cell_type": "markdown",
        "id": "DljdJw8m0gYC"
      },
      "source": [
        "## 1.5 Plot de Resultados [1 Punto]"
      ]
    },
    {
      "cell_type": "markdown",
      "metadata": {
        "cell_id": "00029-a2d26faa-9a0c-4654-b90a-8afea2987c40",
        "deepnote_cell_type": "markdown",
        "id": "cQAxOM5D08Hl"
      },
      "source": [
        "Llego la hora de visualizar los resultados obtenidos, para esto solo ejecute las siguientes celdas y observe lo que sucede :3. ¿Qué logra observar de los resultados?, ¿La solución resulta trivial?\n",
        "\n",
        "En esta sección esperamos que solo comenten con lo que logran visualizar de los dataframes."
      ]
    },
    {
      "cell_type": "code",
      "source": [
        "votos = votes[len(votes) - 1]\n",
        "posteo = post[len(post) - 1]\n",
        "print(\"lower bounds aproximados:\")\n",
        "posterior_mean, std_err = funcion22(votos)\n",
        "lb = posterior_mean - std_err\n",
        "print(\"\\nTop 20 post ordenador por el limite inferior:\\n\")\n",
        "order = np.argsort(-lb)\n",
        "vote_post = {\n",
        "    'Votos (+)': votos[order[:20], 0],\n",
        "    'Votos (-)': votos[order[:20], 1],\n",
        "    'Post': np.array(posteo)[order[:20]],\n",
        "    'url': np.array(url[len(url) - 1])[order[:20]]\n",
        "}\n",
        "df = pd.DataFrame(data=vote_post)\n",
        "ordered_post = df.Post\n",
        "\n",
        "r_order = order[::-1][-20:]\n",
        "data_dic = {\n",
        "    'mean': posterior_mean[r_order],\n",
        "    'std_err': std_err[r_order],\n",
        "    'post': ordered_post[::-1]\n",
        "}\n",
        "df = pd.DataFrame(data=data_dic)\n",
        "fig = px.scatter(df, x=\"mean\", y=\"post\", error_x=\"std_err\")\n",
        "fig.show()"
      ],
      "metadata": {
        "colab": {
          "base_uri": "https://localhost:8080/",
          "height": 615
        },
        "id": "_b4q96_OjK3l",
        "outputId": "a091bdc8-6099-4bd3-f259-1f8432969433"
      },
      "execution_count": 23,
      "outputs": [
        {
          "output_type": "stream",
          "name": "stdout",
          "text": [
            "lower bounds aproximados:\n",
            "\n",
            "Top 20 post ordenador por el limite inferior:\n",
            "\n"
          ]
        },
        {
          "output_type": "display_data",
          "data": {
            "text/html": [
              "<html>\n",
              "<head><meta charset=\"utf-8\" /></head>\n",
              "<body>\n",
              "    <div>            <script src=\"https://cdnjs.cloudflare.com/ajax/libs/mathjax/2.7.5/MathJax.js?config=TeX-AMS-MML_SVG\"></script><script type=\"text/javascript\">if (window.MathJax) {MathJax.Hub.Config({SVG: {font: \"STIX-Web\"}});}</script>                <script type=\"text/javascript\">window.PlotlyConfig = {MathJaxConfig: 'local'};</script>\n",
              "        <script src=\"https://cdn.plot.ly/plotly-latest.min.js\"></script>                <div id=\"f377cfeb-c613-4d63-97b0-f69fa3b08b70\" class=\"plotly-graph-div\" style=\"height:525px; width:100%;\"></div>            <script type=\"text/javascript\">                                    window.PLOTLYENV=window.PLOTLYENV || {};                                    if (document.getElementById(\"f377cfeb-c613-4d63-97b0-f69fa3b08b70\")) {                    Plotly.newPlot(                        \"f377cfeb-c613-4d63-97b0-f69fa3b08b70\",                        [{\"error_x\": {\"array\": [2.3285614288617425e-07, 2.233593242365172e-07, 3.2958920002109365e-07, 1.7583120204603581e-06, 1.4395365843827554e-07, 3.697247007470679e-08, 9.33786078098472e-05, 5.8262711864406776e-05, 5.365853658536585e-05, 4.5948203842940684e-05, 3.924086757990867e-05, 3.924086757990867e-05, 2.2853818665336988e-05, 1.7520387359836903e-05, 1.5461019490254872e-05, 1.3971684053651267e-05, 1.0301168714414144e-05, 8.158381377134777e-06, 4.147500188522736e-06, 2.6307481847837523e-06]}, \"hovertemplate\": \"mean=%{x}<br>post=%{y}<extra></extra>\", \"legendgroup\": \"\", \"marker\": {\"color\": \"#636efa\", \"symbol\": \"circle\"}, \"mode\": \"markers\", \"name\": \"\", \"orientation\": \"h\", \"showlegend\": false, \"type\": \"scatter\", \"x\": [0.9880418535127056, 0.9882869692532943, 0.9883527454242929, 0.9883720930232558, 0.9887780548628429, 0.9889676910953507, 0.9893617021276596, 0.9915966386554622, 0.9919354838709677, 0.9925373134328358, 0.993103448275862, 0.993103448275862, 0.9947368421052631, 0.9953917050691244, 0.9956709956709957, 0.9958847736625515, 0.9964664310954063, 0.9968553459119497, 0.9977578475336323, 0.9982142857142857], \"xaxis\": \"x\", \"y\": [\"El crossover que nadie pidi\\u00f3, pero todos necesit\\u00e1bamos\", \"Finalmente\", \"Error en zoom\", \"Esto no es verdad cierto?\", \"Te vas un finde de r/Chile y cuando vuelves...\", \"Fotograf\\u00eda de un solitario autom\\u00f3vil conduciendo por las cercan\\u00edas de Osorno. 1939. A color.\", \"Sernac acusa al Banco de Chile y al BCI de millonarios cobros indebidos a clientes | Economia\", \"Tribunal autoriza entrega de fichas m\\u00e9dicas completas de Rojas Vade a la Fiscal\\u00eda\", \"Revolucionario hallazgo: Descubren dinosaurio en Chile con una cola nunca antes vista\", \"Conaf expulsa del Parque Nacional Torres del Paine a dos turistas por usar cocinilla en lugar no habilitado: fueron denunciados en fiscal\\u00eda\", \"Me estafaron en YAPO.CL: C\\u00f3mo evitarlo y v\\u00edas legales\", \"Universidad de Chile crea un medicamento que promete prevenir y eliminar las caries\", \"Municipalidad de Maip\\u00fa presentar\\u00e1 querella criminal contra Cathy Barriga por fraude al Fisco | Nacional\", \"Parque nacional Conguill\\u00edo - Regi\\u00f3n de la Araucan\\u00eda\", \"\\u201cVista general de Santiago, Chile, desde Apoquindo\\u201d, pintura de Marianne North (1884)\", \"Eclipse Solar desde la base chilena Glaciar Uni\\u00f3n - 4:04 a.m de hoy s\\u00e1bado 04/12/2021\", \"Temuco a las 1:30 AM.\", \"Me encontr\\u00e9 un tramoya de 31 minutos en la feria\", \"Pud\\u00fa en Ruta a Caleta Gonzalo\", \"\\u00a1Estamos de vuelta! Hace mucho tiempo que no publicaba algo de BuildTheEarth: Chile\\u2026 aqu\\u00ed est\\u00e1 la Plaza de Armas de Santiago y las cuadras adyacentes, construidas en Minecraft a escala 1:1. \\ud83c\\udde8\\ud83c\\uddf1\"], \"yaxis\": \"y\"}],                        {\"legend\": {\"tracegroupgap\": 0}, \"margin\": {\"t\": 60}, \"template\": {\"data\": {\"bar\": [{\"error_x\": {\"color\": \"#2a3f5f\"}, \"error_y\": {\"color\": \"#2a3f5f\"}, \"marker\": {\"line\": {\"color\": \"#E5ECF6\", \"width\": 0.5}}, \"type\": \"bar\"}], \"barpolar\": [{\"marker\": {\"line\": {\"color\": \"#E5ECF6\", \"width\": 0.5}}, \"type\": \"barpolar\"}], \"carpet\": [{\"aaxis\": {\"endlinecolor\": \"#2a3f5f\", \"gridcolor\": \"white\", \"linecolor\": \"white\", \"minorgridcolor\": \"white\", \"startlinecolor\": \"#2a3f5f\"}, \"baxis\": {\"endlinecolor\": \"#2a3f5f\", \"gridcolor\": \"white\", \"linecolor\": \"white\", \"minorgridcolor\": \"white\", \"startlinecolor\": \"#2a3f5f\"}, \"type\": \"carpet\"}], \"choropleth\": [{\"colorbar\": {\"outlinewidth\": 0, \"ticks\": \"\"}, \"type\": \"choropleth\"}], \"contour\": [{\"colorbar\": {\"outlinewidth\": 0, \"ticks\": \"\"}, \"colorscale\": [[0.0, \"#0d0887\"], [0.1111111111111111, \"#46039f\"], [0.2222222222222222, \"#7201a8\"], [0.3333333333333333, \"#9c179e\"], [0.4444444444444444, \"#bd3786\"], [0.5555555555555556, \"#d8576b\"], [0.6666666666666666, \"#ed7953\"], [0.7777777777777778, \"#fb9f3a\"], [0.8888888888888888, \"#fdca26\"], [1.0, \"#f0f921\"]], \"type\": \"contour\"}], \"contourcarpet\": [{\"colorbar\": {\"outlinewidth\": 0, \"ticks\": \"\"}, \"type\": \"contourcarpet\"}], \"heatmap\": [{\"colorbar\": {\"outlinewidth\": 0, \"ticks\": \"\"}, \"colorscale\": [[0.0, \"#0d0887\"], [0.1111111111111111, \"#46039f\"], [0.2222222222222222, \"#7201a8\"], [0.3333333333333333, \"#9c179e\"], [0.4444444444444444, \"#bd3786\"], [0.5555555555555556, \"#d8576b\"], [0.6666666666666666, \"#ed7953\"], [0.7777777777777778, \"#fb9f3a\"], [0.8888888888888888, \"#fdca26\"], [1.0, \"#f0f921\"]], \"type\": \"heatmap\"}], \"heatmapgl\": [{\"colorbar\": {\"outlinewidth\": 0, \"ticks\": \"\"}, \"colorscale\": [[0.0, \"#0d0887\"], [0.1111111111111111, \"#46039f\"], [0.2222222222222222, \"#7201a8\"], [0.3333333333333333, \"#9c179e\"], [0.4444444444444444, \"#bd3786\"], [0.5555555555555556, \"#d8576b\"], [0.6666666666666666, \"#ed7953\"], [0.7777777777777778, \"#fb9f3a\"], [0.8888888888888888, \"#fdca26\"], [1.0, \"#f0f921\"]], \"type\": \"heatmapgl\"}], \"histogram\": [{\"marker\": {\"colorbar\": {\"outlinewidth\": 0, \"ticks\": \"\"}}, \"type\": \"histogram\"}], \"histogram2d\": [{\"colorbar\": {\"outlinewidth\": 0, \"ticks\": \"\"}, \"colorscale\": [[0.0, \"#0d0887\"], [0.1111111111111111, \"#46039f\"], [0.2222222222222222, \"#7201a8\"], [0.3333333333333333, \"#9c179e\"], [0.4444444444444444, \"#bd3786\"], [0.5555555555555556, \"#d8576b\"], [0.6666666666666666, \"#ed7953\"], [0.7777777777777778, \"#fb9f3a\"], [0.8888888888888888, \"#fdca26\"], [1.0, \"#f0f921\"]], \"type\": \"histogram2d\"}], \"histogram2dcontour\": [{\"colorbar\": {\"outlinewidth\": 0, \"ticks\": \"\"}, \"colorscale\": [[0.0, \"#0d0887\"], [0.1111111111111111, \"#46039f\"], [0.2222222222222222, \"#7201a8\"], [0.3333333333333333, \"#9c179e\"], [0.4444444444444444, \"#bd3786\"], [0.5555555555555556, \"#d8576b\"], [0.6666666666666666, \"#ed7953\"], [0.7777777777777778, \"#fb9f3a\"], [0.8888888888888888, \"#fdca26\"], [1.0, \"#f0f921\"]], \"type\": \"histogram2dcontour\"}], \"mesh3d\": [{\"colorbar\": {\"outlinewidth\": 0, \"ticks\": \"\"}, \"type\": \"mesh3d\"}], \"parcoords\": [{\"line\": {\"colorbar\": {\"outlinewidth\": 0, \"ticks\": \"\"}}, \"type\": \"parcoords\"}], \"pie\": [{\"automargin\": true, \"type\": \"pie\"}], \"scatter\": [{\"marker\": {\"colorbar\": {\"outlinewidth\": 0, \"ticks\": \"\"}}, \"type\": \"scatter\"}], \"scatter3d\": [{\"line\": {\"colorbar\": {\"outlinewidth\": 0, \"ticks\": \"\"}}, \"marker\": {\"colorbar\": {\"outlinewidth\": 0, \"ticks\": \"\"}}, \"type\": \"scatter3d\"}], \"scattercarpet\": [{\"marker\": {\"colorbar\": {\"outlinewidth\": 0, \"ticks\": \"\"}}, \"type\": \"scattercarpet\"}], \"scattergeo\": [{\"marker\": {\"colorbar\": {\"outlinewidth\": 0, \"ticks\": \"\"}}, \"type\": \"scattergeo\"}], \"scattergl\": [{\"marker\": {\"colorbar\": {\"outlinewidth\": 0, \"ticks\": \"\"}}, \"type\": \"scattergl\"}], \"scattermapbox\": [{\"marker\": {\"colorbar\": {\"outlinewidth\": 0, \"ticks\": \"\"}}, \"type\": \"scattermapbox\"}], \"scatterpolar\": [{\"marker\": {\"colorbar\": {\"outlinewidth\": 0, \"ticks\": \"\"}}, \"type\": \"scatterpolar\"}], \"scatterpolargl\": [{\"marker\": {\"colorbar\": {\"outlinewidth\": 0, \"ticks\": \"\"}}, \"type\": \"scatterpolargl\"}], \"scatterternary\": [{\"marker\": {\"colorbar\": {\"outlinewidth\": 0, \"ticks\": \"\"}}, \"type\": \"scatterternary\"}], \"surface\": [{\"colorbar\": {\"outlinewidth\": 0, \"ticks\": \"\"}, \"colorscale\": [[0.0, \"#0d0887\"], [0.1111111111111111, \"#46039f\"], [0.2222222222222222, \"#7201a8\"], [0.3333333333333333, \"#9c179e\"], [0.4444444444444444, \"#bd3786\"], [0.5555555555555556, \"#d8576b\"], [0.6666666666666666, \"#ed7953\"], [0.7777777777777778, \"#fb9f3a\"], [0.8888888888888888, \"#fdca26\"], [1.0, \"#f0f921\"]], \"type\": \"surface\"}], \"table\": [{\"cells\": {\"fill\": {\"color\": \"#EBF0F8\"}, \"line\": {\"color\": \"white\"}}, \"header\": {\"fill\": {\"color\": \"#C8D4E3\"}, \"line\": {\"color\": \"white\"}}, \"type\": \"table\"}]}, \"layout\": {\"annotationdefaults\": {\"arrowcolor\": \"#2a3f5f\", \"arrowhead\": 0, \"arrowwidth\": 1}, \"autotypenumbers\": \"strict\", \"coloraxis\": {\"colorbar\": {\"outlinewidth\": 0, \"ticks\": \"\"}}, \"colorscale\": {\"diverging\": [[0, \"#8e0152\"], [0.1, \"#c51b7d\"], [0.2, \"#de77ae\"], [0.3, \"#f1b6da\"], [0.4, \"#fde0ef\"], [0.5, \"#f7f7f7\"], [0.6, \"#e6f5d0\"], [0.7, \"#b8e186\"], [0.8, \"#7fbc41\"], [0.9, \"#4d9221\"], [1, \"#276419\"]], \"sequential\": [[0.0, \"#0d0887\"], [0.1111111111111111, \"#46039f\"], [0.2222222222222222, \"#7201a8\"], [0.3333333333333333, \"#9c179e\"], [0.4444444444444444, \"#bd3786\"], [0.5555555555555556, \"#d8576b\"], [0.6666666666666666, \"#ed7953\"], [0.7777777777777778, \"#fb9f3a\"], [0.8888888888888888, \"#fdca26\"], [1.0, \"#f0f921\"]], \"sequentialminus\": [[0.0, \"#0d0887\"], [0.1111111111111111, \"#46039f\"], [0.2222222222222222, \"#7201a8\"], [0.3333333333333333, \"#9c179e\"], [0.4444444444444444, \"#bd3786\"], [0.5555555555555556, \"#d8576b\"], [0.6666666666666666, \"#ed7953\"], [0.7777777777777778, \"#fb9f3a\"], [0.8888888888888888, \"#fdca26\"], [1.0, \"#f0f921\"]]}, \"colorway\": [\"#636efa\", \"#EF553B\", \"#00cc96\", \"#ab63fa\", \"#FFA15A\", \"#19d3f3\", \"#FF6692\", \"#B6E880\", \"#FF97FF\", \"#FECB52\"], \"font\": {\"color\": \"#2a3f5f\"}, \"geo\": {\"bgcolor\": \"white\", \"lakecolor\": \"white\", \"landcolor\": \"#E5ECF6\", \"showlakes\": true, \"showland\": true, \"subunitcolor\": \"white\"}, \"hoverlabel\": {\"align\": \"left\"}, \"hovermode\": \"closest\", \"mapbox\": {\"style\": \"light\"}, \"paper_bgcolor\": \"white\", \"plot_bgcolor\": \"#E5ECF6\", \"polar\": {\"angularaxis\": {\"gridcolor\": \"white\", \"linecolor\": \"white\", \"ticks\": \"\"}, \"bgcolor\": \"#E5ECF6\", \"radialaxis\": {\"gridcolor\": \"white\", \"linecolor\": \"white\", \"ticks\": \"\"}}, \"scene\": {\"xaxis\": {\"backgroundcolor\": \"#E5ECF6\", \"gridcolor\": \"white\", \"gridwidth\": 2, \"linecolor\": \"white\", \"showbackground\": true, \"ticks\": \"\", \"zerolinecolor\": \"white\"}, \"yaxis\": {\"backgroundcolor\": \"#E5ECF6\", \"gridcolor\": \"white\", \"gridwidth\": 2, \"linecolor\": \"white\", \"showbackground\": true, \"ticks\": \"\", \"zerolinecolor\": \"white\"}, \"zaxis\": {\"backgroundcolor\": \"#E5ECF6\", \"gridcolor\": \"white\", \"gridwidth\": 2, \"linecolor\": \"white\", \"showbackground\": true, \"ticks\": \"\", \"zerolinecolor\": \"white\"}}, \"shapedefaults\": {\"line\": {\"color\": \"#2a3f5f\"}}, \"ternary\": {\"aaxis\": {\"gridcolor\": \"white\", \"linecolor\": \"white\", \"ticks\": \"\"}, \"baxis\": {\"gridcolor\": \"white\", \"linecolor\": \"white\", \"ticks\": \"\"}, \"bgcolor\": \"#E5ECF6\", \"caxis\": {\"gridcolor\": \"white\", \"linecolor\": \"white\", \"ticks\": \"\"}}, \"title\": {\"x\": 0.05}, \"xaxis\": {\"automargin\": true, \"gridcolor\": \"white\", \"linecolor\": \"white\", \"ticks\": \"\", \"title\": {\"standoff\": 15}, \"zerolinecolor\": \"white\", \"zerolinewidth\": 2}, \"yaxis\": {\"automargin\": true, \"gridcolor\": \"white\", \"linecolor\": \"white\", \"ticks\": \"\", \"title\": {\"standoff\": 15}, \"zerolinecolor\": \"white\", \"zerolinewidth\": 2}}}, \"xaxis\": {\"anchor\": \"y\", \"domain\": [0.0, 1.0], \"title\": {\"text\": \"mean\"}}, \"yaxis\": {\"anchor\": \"x\", \"domain\": [0.0, 1.0], \"title\": {\"text\": \"post\"}}},                        {\"responsive\": true}                    ).then(function(){\n",
              "                            \n",
              "var gd = document.getElementById('f377cfeb-c613-4d63-97b0-f69fa3b08b70');\n",
              "var x = new MutationObserver(function (mutations, observer) {{\n",
              "        var display = window.getComputedStyle(gd).display;\n",
              "        if (!display || display === 'none') {{\n",
              "            console.log([gd, 'removed!']);\n",
              "            Plotly.purge(gd);\n",
              "            observer.disconnect();\n",
              "        }}\n",
              "}});\n",
              "\n",
              "// Listen for the removal of the full notebook cells\n",
              "var notebookContainer = gd.closest('#notebook-container');\n",
              "if (notebookContainer) {{\n",
              "    x.observe(notebookContainer, {childList: true});\n",
              "}}\n",
              "\n",
              "// Listen for the clearing of the current output cell\n",
              "var outputEl = gd.closest('.output');\n",
              "if (outputEl) {{\n",
              "    x.observe(outputEl, {childList: true});\n",
              "}}\n",
              "\n",
              "                        })                };                            </script>        </div>\n",
              "</body>\n",
              "</html>"
            ]
          },
          "metadata": {}
        }
      ]
    },
    {
      "cell_type": "markdown",
      "metadata": {
        "cell_id": "00032-d71a3ab5-0048-4d25-a4d8-341d7cab6421",
        "deepnote_cell_type": "markdown",
        "id": "szOjXLKA1Rif"
      },
      "source": [
        "**Respuesta:**"
      ]
    },
    {
      "cell_type": "markdown",
      "metadata": {
        "cell_id": "00033-959c9ac0-1d28-4b75-9d1b-6a404fb2b1da",
        "deepnote_cell_type": "markdown",
        "id": "0F83QdD61Pd1"
      },
      "source": [
        "En la visualización se puede apreciar los 20 post de reddit ordenados de mayor a menor por su media posterior, la que estadísticamente representa la probabilidad un post sea bueno. Podemos ver que el post con mayor probalididad es que le guste al lector es el que empieza con ¡Estamos de vuelrta!, con un valor de 0.998% de probabilidad de que al lector de lo considere positivo. En cambio el post número 20 dentro de este ranking es \"El crossover que nadie pidió, pero que todos necesitabamos\". \n",
        "\n",
        "Además podemo obtener las desviaciones estandar de cada uno de estos post, la con mayor desvuación es la de \"Sernac acusa a Banco de Chile (...)\". "
      ]
    },
    {
      "cell_type": "markdown",
      "metadata": {
        "cell_id": "00034-99362e55-ff3e-4160-b715-f235e1edf941",
        "deepnote_cell_type": "markdown",
        "id": "Rg4ZMq8ezAH6"
      },
      "source": [
        "<p align=\"center\">\n",
        "  <img src=\"https://media1.tenor.com/images/fb5bf7cc5a4acb91b4177672886a88ba/tenor.gif?itemid=5591338\">\n",
        "</p>"
      ]
    }
  ],
  "metadata": {
    "colab": {
      "collapsed_sections": [],
      "name": "Lab9_Enunciado.ipynb",
      "provenance": []
    },
    "deepnote": {},
    "deepnote_execution_queue": [],
    "deepnote_notebook_id": "5d40e96b-943c-437d-9a87-f692c1b738de",
    "kernelspec": {
      "display_name": "Python 3 (ipykernel)",
      "language": "python",
      "name": "python3"
    },
    "language_info": {
      "codemirror_mode": {
        "name": "ipython",
        "version": 3
      },
      "file_extension": ".py",
      "mimetype": "text/x-python",
      "name": "python",
      "nbconvert_exporter": "python",
      "pygments_lexer": "ipython3",
      "version": "3.9.7"
    },
    "toc": {
      "base_numbering": 1,
      "nav_menu": {},
      "number_sections": true,
      "sideBar": true,
      "skip_h1_title": true,
      "title_cell": "Tabla de Contenidos",
      "title_sidebar": "Contenidos",
      "toc_cell": false,
      "toc_position": {
        "height": "calc(100% - 180px)",
        "left": "10px",
        "top": "150px",
        "width": "241.867px"
      },
      "toc_section_display": true,
      "toc_window_display": true
    },
    "varInspector": {
      "cols": {
        "lenName": 16,
        "lenType": 16,
        "lenVar": 40
      },
      "kernels_config": {
        "python": {
          "delete_cmd_postfix": "",
          "delete_cmd_prefix": "del ",
          "library": "var_list.py",
          "varRefreshCmd": "print(var_dic_list())"
        },
        "r": {
          "delete_cmd_postfix": ") ",
          "delete_cmd_prefix": "rm(",
          "library": "var_list.r",
          "varRefreshCmd": "cat(var_dic_list()) "
        }
      },
      "types_to_exclude": [
        "module",
        "function",
        "builtin_function_or_method",
        "instance",
        "_Feature"
      ],
      "window_display": false
    }
  },
  "nbformat": 4,
  "nbformat_minor": 0
}