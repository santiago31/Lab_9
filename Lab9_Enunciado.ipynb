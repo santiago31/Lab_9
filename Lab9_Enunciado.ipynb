{
  "cells": [
    {
      "cell_type": "markdown",
      "metadata": {
        "cell_id": "00000-e58a33a7-5695-4e1a-8e41-ee4fad094973",
        "deepnote_cell_type": "markdown",
        "id": "XUZ1dFPHzAHl"
      },
      "source": [
        "<h1><center>Laboratorio 9: Benchmark Estadístico con Reddit 🧮</center></h1>\n",
        "\n",
        "<center><strong>MDS7202: Laboratorio de Programación Científica para Ciencia de Datos</strong></center>"
      ]
    },
    {
      "cell_type": "markdown",
      "metadata": {
        "cell_id": "00001-a6e1cf75-da72-4116-8013-b0aec5bc17ea",
        "deepnote_cell_type": "markdown",
        "id": "UD8X1uhGzAHq"
      },
      "source": [
        "### Cuerpo Docente:\n",
        "\n",
        "- Profesor: Pablo Badilla\n",
        "- Auxiliar: Ignacio Meza D.\n",
        "- Ayudante: Constanza Peña"
      ]
    },
    {
      "cell_type": "markdown",
      "metadata": {
        "cell_id": "00002-cc69b7e1-bad8-41c0-ae4a-f9a6671c3509",
        "deepnote_cell_type": "markdown",
        "id": "tXflExjqzAHr"
      },
      "source": [
        "### Equipo: SUPER IMPORTANTE - notebooks sin nombre no serán revisados\n",
        "\n",
        "- Nombre de alumno 1: Santiago Valdivieso\n",
        "- Nombre de alumno 2:\n"
      ]
    },
    {
      "cell_type": "markdown",
      "metadata": {
        "cell_id": "00003-fc7bdf37-e0ed-46b2-9ece-3f16c761f0d6",
        "deepnote_cell_type": "markdown",
        "id": "AD-V0bbZzAHr"
      },
      "source": [
        "### **Link de repositorio de GitHub:** `http://....`"
      ]
    },
    {
      "cell_type": "markdown",
      "metadata": {
        "cell_id": "00005-002cc95e-3cd9-4a83-ba9d-40b8a26bb665",
        "deepnote_cell_type": "markdown",
        "id": "6uBLPj1PzAHs"
      },
      "source": [
        "# Temas a tratar\n",
        "\n",
        "- Optimización de Código en Python.\n",
        "- Utilización de librerías para medir el tiempo de ejecución de funciones.\n",
        "- Métodos para optimizar el rendimiento de las funciones.\n",
        "\n",
        "# Reglas:\n",
        "\n",
        "- Fecha de entrega: 3/12/2021\n",
        "- **Grupos de 2 personas**\n",
        "- **Ausentes** deberán realizar la actividad solos. \n",
        "- Cualquier duda fuera del horario de clases al foro. Mensajes al equipo docente serán respondidos por este medio.\n",
        "- Prohibidas las copias. \n",
        "- Pueden usar cualquer matrial del curso que estimen conveniente.\n",
        "\n",
        "# Objetivos principales del laboratorio\n",
        "\n",
        "- Obtener datos desde Reddit a partir de la librería `praw` y visualizar cuales post son más probables que sean puntuados positivamente.\n",
        "- Aplicar un atajo estadístico para obtener la mean posterior de datos.\n",
        "- Optimizar a través de librerías funciones."
      ]
    },
    {
      "cell_type": "markdown",
      "metadata": {
        "cell_id": "00006-95054c9c-35b6-4246-8808-a9bc5019f321",
        "deepnote_cell_type": "markdown",
        "id": "MhISwri4zAHy"
      },
      "source": [
        "#Importamos librerias utiles 😸"
      ]
    },
    {
      "cell_type": "code",
      "execution_count": 4,
      "metadata": {
        "cell_id": "00007-26cb5765-42df-4c44-8039-62904faf80c9",
        "deepnote_cell_type": "code",
        "deepnote_to_be_reexecuted": false,
        "execution_millis": 11794,
        "execution_start": 1637947671330,
        "id": "cO7AQ9ciQ59U",
        "source_hash": "5f812e77"
      },
      "outputs": [],
      "source": [
        "%%capture\n",
        "!pip install praw\n",
        "!pip install line_profiler\n",
        "!pip install numba\n",
        "\n",
        "%load_ext autoreload\n",
        "%autoreload 2\n",
        "from sklearn.cluster import KMeans\n",
        "import sys\n",
        "import praw\n",
        "import time\n",
        "import numpy as np\n",
        "import pandas as pd\n",
        "from numba import jit\n",
        "import plotly.express as px\n",
        "from functools import lru_cache\n",
        "from IPython.core.display import Image"
      ]
    },
    {
      "cell_type": "markdown",
      "metadata": {
        "cell_id": "00008-42ae92fb-1318-4753-87ce-2a0d26da1b07",
        "deepnote_cell_type": "markdown",
        "id": "xpOTbQcxbSiy"
      },
      "source": [
        "# 1. Recomendando Posts de Subreddit"
      ]
    },
    {
      "cell_type": "markdown",
      "metadata": {
        "cell_id": "00009-6a4d7e77-29a6-4132-8b14-d0f9d5ea4f92",
        "deepnote_cell_type": "markdown",
        "id": "3Q93vbNS25bM"
      },
      "source": [
        "<p align=\"center\">\n",
        "  <img src=\"https://styles.redditmedia.com/t5_2rer8/styles/bannerBackgroundImage_xzrb6my122181.jpg\">\n",
        "</p>"
      ]
    },
    {
      "cell_type": "markdown",
      "metadata": {
        "cell_id": "00010-34fea2e6-4b5b-42a8-adc5-cc5ee77a6afe",
        "deepnote_cell_type": "markdown",
        "id": "jnmZfFpxTTYX"
      },
      "source": [
        "Unos intrépidos alumnos del curso, quienes frecuentemente participan en subreddits y foros de reviews, se preguntan lo siguiente: ¿Podremos confiar que un post es bueno, si este tiene solamente 1 o 3 votos positivos?. los compañeros, creen que esto claramente no representa una opinión general, ya que estamos mucho menos seguros acerca de la verdadera proporción de votos a favor de los comentarios con pocos datos. ¿Pero cómo podemos obtener una representación más creíble para este problema?.\n",
        "\n",
        "Lo señalado forma parte de un problema estadísticos, donde a través del cálculo de la posterior se puede conocer que tan probable es que un post sea bueno. Para efectos de este laboratorio, no se exige un conocimiento previo para resolver este problema, simplemente se deberá aplicar las ecuaciones presentadas más adelante (De igual forma si quedan interesados sobre el tema se les invita a tomar el ramo [CC6104](https://github.com/dccuchile/CC6104))."
      ]
    },
    {
      "cell_type": "markdown",
      "metadata": {
        "cell_id": "00011-d4a7a560-6425-4ccb-9d84-f59a9c36e3ac",
        "deepnote_cell_type": "markdown",
        "id": "xdbrb3AMi6EF"
      },
      "source": [
        "## 1.1 Obtención de Subrredits y Análisis [1 Punto]"
      ]
    },
    {
      "cell_type": "markdown",
      "metadata": {
        "cell_id": "00012-b7ddd335-dbd8-4db8-9533-07a0a75fa4e1",
        "deepnote_cell_type": "markdown",
        "id": "YI-IRspcjPee"
      },
      "source": [
        "Para estudiar que tan probable es que un post sea positivo se comenzará cargando datos reales del subreddit chile desde reddit (si usted desea puede cambiar el subreddit a uno de su gusto). Para esto le proponemos la utilización de la función que aparece mas abajo, la que presenta un usuario ya creado por el equipo docente. Dese un tiempo para entender que hace cada parte de la función, visualizando que se obtiene de estas.\n",
        "\n",
        "Revisada la función, utilice un **perfilador** para monitorear el tiempo y memoria que les toma a cada liena de código para ser ejecutada. Señale cuales son los procesos que mas tiempo consumen en la ejecución del Código, comentando si es posible mejorar el desempeño de la función.\n",
        "\n",
        "**TO-DO:**\n",
        "- [ ] Estudiar la función propuesta por el equipo docente.\n",
        "- [ ] Estudiar los tiempos de ejecución del código a través de un perfilador.\n",
        "- [ ] Estudiar la memoria ocupada por el código a través de un perfilador.\n",
        "- [ ] Comente los resultados. ¿Qué lineas ocupan más memoria o más/menos tiempo?¿Por qué?"
      ]
    },
    {
      "cell_type": "code",
      "source": [
        "%load_ext line_profiler"
      ],
      "metadata": {
        "id": "tmyoQRMoixJM"
      },
      "execution_count": 2,
      "outputs": []
    },
    {
      "cell_type": "code",
      "execution_count": 5,
      "metadata": {
        "cell_id": "00013-93efc05f-d7c4-43ab-a5e7-25678ec45bf7",
        "deepnote_cell_type": "code",
        "deepnote_to_be_reexecuted": false,
        "execution_millis": 1,
        "execution_start": 1637947497504,
        "id": "R4PQbceVPJzh",
        "source_hash": "a55fad36"
      },
      "outputs": [],
      "source": [
        "def praw_reddit(nombre_subreddit=\"chile\", n_hot=1000):\n",
        "    reddit = praw.Reddit(\n",
        "        client_id=\"-w2hyFINxZ8T3g\",\n",
        "        client_secret=\"zGPCI4s3g6Ic6AsRi7vIpP0NoxbFdw\",\n",
        "        password=\"ClasesMDS7202\",\n",
        "        user_agent=\"Clases\",\n",
        "        username=\"DocenciaDataScience\",\n",
        "        check_for_async=False,\n",
        "    )\n",
        "    subreddit = reddit.subreddit(nombre_subreddit)\n",
        "\n",
        "    votes, post, url = {}, {}, {}\n",
        "    top_submissions = list(subreddit.hot(limit=n_hot))\n",
        "    for it, top_n in enumerate(range(50, len(top_submissions), 50)):\n",
        "        top_n_submissions = top_submissions[:top_n]\n",
        "        upvotes, downvotes, url[it], post[it] = [], [], [], []\n",
        "\n",
        "        for submission in top_n_submissions:\n",
        "            try:\n",
        "                ratio = submission.upvote_ratio\n",
        "                ups = int(\n",
        "                    round((ratio * submission.score) / (2 * ratio - 1))\n",
        "                    if ratio != 0.5\n",
        "                    else round(submission.score / 2)\n",
        "                )\n",
        "                upvotes.append(ups)\n",
        "                downvotes.append(ups - submission.score)\n",
        "                post[it].append(submission.title)\n",
        "                url[it].append(submission.url)\n",
        "            except Exception as e:\n",
        "                continue\n",
        "        votes[it] = np.array([upvotes, downvotes]).T\n",
        "    return votes, post, url\n"
      ]
    },
    {
      "cell_type": "code",
      "execution_count": 6,
      "metadata": {
        "cell_id": "00014-24e5a8eb-4a22-4588-9cc4-1d3d132ca121",
        "deepnote_cell_type": "code",
        "deepnote_to_be_reexecuted": false,
        "execution_millis": 11242,
        "execution_start": 1637947497523,
        "id": "v4rjrWf_pJHJ",
        "source_hash": "4b31fefe"
      },
      "outputs": [],
      "source": [
        "votes, post, url = praw_reddit()"
      ]
    },
    {
      "cell_type": "code",
      "execution_count": 60,
      "metadata": {
        "id": "XQ2rg0t8gvCi"
      },
      "outputs": [],
      "source": [
        "%lprun -f praw_reddit praw_reddit()"
      ]
    },
    {
      "cell_type": "code",
      "source": [
        "%%file bench_module.py\n",
        "import numpy as np\n",
        "import praw\n",
        "def praw_reddit(nombre_subreddit=\"chile\", n_hot=1000):\n",
        "    reddit = praw.Reddit(\n",
        "        client_id=\"-w2hyFINxZ8T3g\",\n",
        "        client_secret=\"zGPCI4s3g6Ic6AsRi7vIpP0NoxbFdw\",\n",
        "        password=\"ClasesMDS7202\",\n",
        "        user_agent=\"Clases\",\n",
        "        username=\"DocenciaDataScience\",\n",
        "        check_for_async=False,\n",
        "    )\n",
        "    subreddit = reddit.subreddit(nombre_subreddit)\n",
        "\n",
        "    votes, post, url = {}, {}, {}\n",
        "    top_submissions = list(subreddit.hot(limit=n_hot))\n",
        "    for it, top_n in enumerate(range(50, len(top_submissions), 50)):\n",
        "        top_n_submissions = top_submissions[:top_n]\n",
        "        upvotes, downvotes, url[it], post[it] = [], [], [], []\n",
        "\n",
        "        for submission in top_n_submissions:\n",
        "            try:\n",
        "                ratio = submission.upvote_ratio\n",
        "                ups = int(\n",
        "                    round((ratio * submission.score) / (2 * ratio - 1))\n",
        "                    if ratio != 0.5\n",
        "                    else round(submission.score / 2)\n",
        "                )\n",
        "                upvotes.append(ups)\n",
        "                downvotes.append(ups - submission.score)\n",
        "                post[it].append(submission.title)\n",
        "                url[it].append(submission.url)\n",
        "            except Exception as e:\n",
        "                continue\n",
        "        votes[it] = np.array([upvotes, downvotes]).T\n",
        "    return votes, post, url"
      ],
      "metadata": {
        "colab": {
          "base_uri": "https://localhost:8080/"
        },
        "id": "6perykE8nzkK",
        "outputId": "5a490dfa-6b3a-491e-8360-92135c541814"
      },
      "execution_count": 57,
      "outputs": [
        {
          "output_type": "stream",
          "name": "stdout",
          "text": [
            "Overwriting bench_module.py\n"
          ]
        }
      ]
    },
    {
      "cell_type": "code",
      "source": [
        "from bench_module import praw_reddit\n",
        "%mprun -f praw_reddit praw_reddit()"
      ],
      "metadata": {
        "colab": {
          "base_uri": "https://localhost:8080/"
        },
        "id": "OFN7Zzkmp0RP",
        "outputId": "352484c4-a142-4132-b798-7c0c7878fc58"
      },
      "execution_count": 61,
      "outputs": [
        {
          "output_type": "stream",
          "name": "stdout",
          "text": [
            "\n"
          ]
        }
      ]
    },
    {
      "cell_type": "markdown",
      "metadata": {
        "cell_id": "00016-51e64884-9168-46df-b5bb-96f7950e1a13",
        "deepnote_cell_type": "markdown",
        "id": "-diI_GpXmzqS"
      },
      "source": [
        "**Respuesta:**"
      ]
    },
    {
      "cell_type": "markdown",
      "metadata": {
        "cell_id": "00017-7ea262b8-c792-4f94-8dba-d8af3c5c4dd5",
        "deepnote_cell_type": "markdown",
        "id": "6gdqQBi1m_cu"
      },
      "source": [
        "La línea que ocupa más tiempo de procesamiento de la función praw_reddit es la 13 \"top_submissions = list(subreddit.hot(limit=n_hot))\" la cual tarda poco más de 13 segundos, esto ocurre porque debe extraer 1000 submisions de reddit conectándose a la red. Esta es la que toma más tiempo del código 99,3%.\n",
        "\n",
        "Por otro lado, las líneas que tardan menos tiemmpo son de la 3 a la 7 y la 33 que es el return, que demoran 1 micro segundo o menos, que son las variables con las cuales se entra a reddit, por lo que representan sólo una definición de una variable para el procesamiento y el return que simplemente devuelve el valor que ya se tiene guardado, por lo que es exigente en rendimiento.\n",
        "\n",
        "Respecto a la memoria la línea que más ocupa es la primera de la función, \"def praw_reddit(nombre_subreddit=\"chile\", n_hot=1000):\" la cual toma 406,2 Mib, en usarla, sin embargo esta no aumenta en las siguientes líneas porque los numeros  de ocurrencia son valores muy bajos(ninguno mayor a 10000)\n",
        "\n"
      ]
    },
    {
      "cell_type": "markdown",
      "metadata": {
        "cell_id": "00018-c6945fe3-eec1-4bf6-82a1-35b7ded97982",
        "deepnote_cell_type": "markdown",
        "id": "tNDS2OpFnMnH"
      },
      "source": [
        "## 1.2 LRU y Análisis de Tiempo con Cache [1 Punto]"
      ]
    },
    {
      "cell_type": "markdown",
      "metadata": {
        "cell_id": "00019-98704da0-6417-4ed9-a753-5672d5a12f03",
        "deepnote_cell_type": "markdown",
        "id": "i3nsxCbAna4t"
      },
      "source": [
        "Respondan las siguientes preguntas:\n",
        "\n",
        "1.\t¿Qué es la memoria cache y a que se refiere las siglas LRU?\n",
        "2.\t¿Cuáles son los costos que tiene la aplicación de técnicas de Caching?\n",
        "3. ¿Cuál es la consecuencía de ocupar caching en la función anterior?.\n",
        "\n",
        "Respondidas las preguntas, se le solicita que aplique alguna técnica de caching para mejorar el desempeño de la función `praw_reddit`. Para esto compare solo el tiempo de ejecución del algoritmo con y sin caching, señalando el tiempo total de ejecución y el tiempo promedio que le toma ejecutar cada loop a la función. Con lo anterior, ¿es posible visualizar mejoras en este caso?.\n",
        "\n",
        "\n",
        "**TO-DO:**\n",
        "- [ ] Responder las preguntas.\n",
        "- [ ] Mejorar el código con cache.\n",
        "- [ ] Explicar las consecuencias de usar lru_cache sobre praw_reddit"
      ]
    },
    {
      "cell_type": "markdown",
      "metadata": {
        "cell_id": "00020-774c602b-0847-483f-9d94-d3db21772a60",
        "deepnote_cell_type": "markdown",
        "id": "fbQPpvYorOAF"
      },
      "source": [
        "**Respuestas Teóricas:**"
      ]
    },
    {
      "cell_type": "markdown",
      "metadata": {
        "cell_id": "00021-9d26f5d4-f9f1-4ce3-b47a-0955d7d5528e",
        "deepnote_cell_type": "markdown",
        "id": "RKfLXDs_rO-w"
      },
      "source": [
        "`Escriba su respuesta aquí`"
      ]
    },
    {
      "cell_type": "markdown",
      "metadata": {
        "id": "gK0qMmzpgvCk"
      },
      "source": [
        "\n",
        "¿Cuál es la consecuencía de ocupar caching en la función anterior?.\n",
        "\n",
        "la memoria cache es un espacio que puede estar ubicado en memoria (RAM), disco o almacenada de manera remota. El acto de guardar resultados en memoria para luego utilizarlos de manera directa se denomina memorización y es una forma de chaching para mejorar el rendimiento de aplicaciones por medio de un uso eficiente de la memoria, una de las ideas tras esta premisa es la de guardar los resultados de operaciones intensivas. Las siglas LRU representan e l algoritmo Least Recently Used, el cual descarta primero los elementos menos usados recientemente. El algoritmo lleva el seguimiento de lo que se va usando, lo que resulta caro si se quiere hacer con precisión. La implementación de esta técnica requiere llevar la cuenta de la edad de cada elemento de caché y buscar el menos usado sobre la base de ella.\n",
        "\n",
        "Las técnicas de caching tienen un costo, este radica en aumentar el consumo de memoria, si esta memoria esta localizada en disco, el acceso puede ser muy lento y el rendimiento puede decaer drásticamente."
      ]
    },
    {
      "cell_type": "code",
      "execution_count": 62,
      "metadata": {
        "cell_id": "00022-d937bbea-3ff8-4700-a0b4-24e49e2036cc",
        "deepnote_cell_type": "code",
        "id": "X0u4WU11rLJd"
      },
      "outputs": [],
      "source": [
        "from functools import lru_cache"
      ]
    },
    {
      "cell_type": "code",
      "source": [
        "@lru_cache(maxsize=1000)\n",
        "def praw_reddit(nombre_subreddit=\"chile\", n_hot=1000):\n",
        "    reddit = praw.Reddit(\n",
        "        client_id=\"-w2hyFINxZ8T3g\",\n",
        "        client_secret=\"zGPCI4s3g6Ic6AsRi7vIpP0NoxbFdw\",\n",
        "        password=\"ClasesMDS7202\",\n",
        "        user_agent=\"Clases\",\n",
        "        username=\"DocenciaDataScience\",\n",
        "        check_for_async=False,\n",
        "    )\n",
        "    subreddit = reddit.subreddit(nombre_subreddit)\n",
        "\n",
        "    votes, post, url = {}, {}, {}\n",
        "    top_submissions = list(subreddit.hot(limit=n_hot))\n",
        "    for it, top_n in enumerate(range(50, len(top_submissions), 50)):\n",
        "        top_n_submissions = top_submissions[:top_n]\n",
        "        upvotes, downvotes, url[it], post[it] = [], [], [], []\n",
        "\n",
        "        for submission in top_n_submissions:\n",
        "            try:\n",
        "                ratio = submission.upvote_ratio\n",
        "                ups = int(\n",
        "                    round((ratio * submission.score) / (2 * ratio - 1))\n",
        "                    if ratio != 0.5\n",
        "                    else round(submission.score / 2)\n",
        "                )\n",
        "                upvotes.append(ups)\n",
        "                downvotes.append(ups - submission.score)\n",
        "                post[it].append(submission.title)\n",
        "                url[it].append(submission.url)\n",
        "            except Exception as e:\n",
        "                continue\n",
        "        votes[it] = np.array([upvotes, downvotes]).T\n",
        "    return votes, post, url\n"
      ],
      "metadata": {
        "id": "c_i3mqYL2kTz"
      },
      "execution_count": 68,
      "outputs": []
    },
    {
      "cell_type": "code",
      "source": [
        "%%timeit\n",
        "votes, post, url = praw_reddit()"
      ],
      "metadata": {
        "colab": {
          "base_uri": "https://localhost:8080/"
        },
        "id": "7lZGXw-M3TwG",
        "outputId": "c438a707-d916-4e1e-9379-5433ac0a6007"
      },
      "execution_count": 69,
      "outputs": [
        {
          "output_type": "stream",
          "name": "stdout",
          "text": [
            "The slowest run took 63309883.73 times longer than the fastest. This could mean that an intermediate result is being cached.\n",
            "1 loop, best of 5: 223 ns per loop\n"
          ]
        }
      ]
    },
    {
      "cell_type": "markdown",
      "metadata": {
        "id": "p3ZpkJgYgvCk"
      },
      "source": [
        "**Respuesta de lru_cache sobre praw_reddit**\n",
        "Podemos ver que al aplicar %%timeit que el tiempo que demoró la iteración más lenta de la función es 63309883.73 veces mayor que la más rápida. esto es porque el resultado de la función está guardada en el cache. En este caso en particular debido a que se van generando datos por distintos tamaños de batches, se repiten las funciones distintas veces, lo que hace que al guardarlas en el caché el rendimiento total sea mucho mayor"
      ]
    },
    {
      "cell_type": "markdown",
      "metadata": {
        "cell_id": "00023-a70d4c89-5b01-4f62-b470-742d59287c02",
        "deepnote_cell_type": "markdown",
        "id": "2pS26u-trdg6"
      },
      "source": [
        "## 1.3 Obtención de Mean Posterior y Standard Error [1 Punto]\n",
        "\n",
        "Una forma de obtener la mean posterior y el Standard Error de los datos de reddit es aplicando un atajo de inferencia estadística. Este atajo se define de la siguiente forma:\n",
        "\n",
        "Sea **u** los votos positivos y **d** los votos negativos del subreddit, tendremos que:\n",
        "\n",
        "$$a = 1+u$$\n",
        "\n",
        "$$b = 1+d$$\n",
        "\n",
        "$$\\sigma= 1.65\\sqrt(\\dfrac{ab}{(a + b)^2(a + b + 1)})$$\n",
        "\n",
        "$$\\mu = \\dfrac{a}{a+b}$$\n",
        "\n",
        "Donde $\\mu$ es la mean posterior y $\\sigma$ el standard error.\n",
        "\n",
        "Con lo anterior, genere dos funciones que tengan como salida $\\mu$ y $\\sigma$ de acuerdo a las ecuaciones señaladas. La primera función, deberá ser construida sin el uso de numpy, aplicando for y aplicando comandos nativos de Python. Por otro lado, deberá generar una segunda función con el uso exclusivo de numpy. **OJO** que las funciones deben tener como entrada solo un elemento del diccionario votes (por ejemplo `votes[1]`), por lo que estas no deben tener como entrada el conjunto completo de datos."
      ]
    },
    {
      "cell_type": "code",
      "source": [
        "def funcion11(votos):\n",
        "  Media=[]\n",
        "  desv=[]\n",
        "  for i in range(len(votos)):\n",
        "    positivos = votos[i][0]\n",
        "    negativos = votos[i][1]\n",
        "    a=1+positivos\n",
        "    b=1+negativos\n",
        "    media=a/(a+b)\n",
        "    desviación=1.65*(((a*b)/(((a*b)**2)*(a+b+1)))*0.5)\n",
        "    Media.append(media)\n",
        "    desv.append(desviación)\n",
        "\n",
        "  return Media,desv"
      ],
      "metadata": {
        "id": "funJq2Cvjnes"
      },
      "execution_count": 143,
      "outputs": []
    },
    {
      "cell_type": "code",
      "source": [
        "def funcion22(votos):\n",
        "  a=1+votos[:,0]\n",
        "  b=1+votos[:,1]\n",
        "  media=a/(a+b)\n",
        "  desviación=1.65*(((a*b)/(((a*b)**2)*(a+b+1)))*0.5)\n",
        "  return media, desviación"
      ],
      "metadata": {
        "id": "W1Ae69LlkPB6"
      },
      "execution_count": 139,
      "outputs": []
    },
    {
      "cell_type": "code",
      "source": [
        "%timeit funcion11(votes[0])"
      ],
      "metadata": {
        "colab": {
          "base_uri": "https://localhost:8080/"
        },
        "id": "xiAN8i8Dj_Yh",
        "outputId": "560829d9-b1c3-4e42-de9d-f28994831756"
      },
      "execution_count": 132,
      "outputs": [
        {
          "output_type": "stream",
          "name": "stdout",
          "text": [
            "10000 loops, best of 5: 165 µs per loop\n"
          ]
        }
      ]
    },
    {
      "cell_type": "code",
      "source": [
        "%timeit funcion22(votes[0])"
      ],
      "metadata": {
        "colab": {
          "base_uri": "https://localhost:8080/"
        },
        "id": "EKILEsqPmgbI",
        "outputId": "a5cfaf2d-6378-4b49-8d94-b6c911ce9811"
      },
      "execution_count": 140,
      "outputs": [
        {
          "output_type": "stream",
          "name": "stdout",
          "text": [
            "The slowest run took 8.70 times longer than the fastest. This could mean that an intermediate result is being cached.\n",
            "100000 loops, best of 5: 13.4 µs per loop\n"
          ]
        }
      ]
    },
    {
      "cell_type": "code",
      "source": [
        "funcion11(votes[0])"
      ],
      "metadata": {
        "colab": {
          "base_uri": "https://localhost:8080/"
        },
        "id": "bnJeht-NoZ_Q",
        "outputId": "7b72d15f-84e9-4012-d048-9791e37a7402"
      },
      "execution_count": 150,
      "outputs": [
        {
          "output_type": "execute_result",
          "data": {
            "text/plain": [
              "([0.8130841121495327,\n",
              "  0.928395061728395,\n",
              "  0.9274193548387096,\n",
              "  0.8379310344827586,\n",
              "  0.979381443298969,\n",
              "  0.8909090909090909,\n",
              "  0.9340659340659341,\n",
              "  0.9259259259259259,\n",
              "  0.9444444444444444,\n",
              "  0.9555555555555556,\n",
              "  0.9125,\n",
              "  0.8269230769230769,\n",
              "  0.8913043478260869,\n",
              "  0.8472222222222222,\n",
              "  0.8611111111111112,\n",
              "  0.6746987951807228,\n",
              "  0.9384288747346072,\n",
              "  0.8846153846153846,\n",
              "  0.7777777777777778,\n",
              "  0.8846153846153846,\n",
              "  0.7674418604651163,\n",
              "  0.9230769230769231,\n",
              "  0.8131868131868132,\n",
              "  0.9788235294117648,\n",
              "  0.9274809160305344,\n",
              "  0.9757785467128027,\n",
              "  0.8777777777777778,\n",
              "  0.9067164179104478,\n",
              "  0.6666666666666666,\n",
              "  0.8888888888888888,\n",
              "  0.9523809523809523,\n",
              "  0.8095238095238095,\n",
              "  0.9795158286778398,\n",
              "  0.918918918918919,\n",
              "  0.9375,\n",
              "  0.8939393939393939,\n",
              "  0.8675213675213675,\n",
              "  0.9130434782608695,\n",
              "  0.9714285714285714,\n",
              "  0.863013698630137,\n",
              "  0.7142857142857143,\n",
              "  0.926605504587156,\n",
              "  0.9230769230769231,\n",
              "  0.9953917050691244,\n",
              "  0.7777777777777778,\n",
              "  0.8152173913043478,\n",
              "  0.7142857142857143,\n",
              "  0.9735099337748344,\n",
              "  0.8837209302325582,\n",
              "  0.937984496124031],\n",
              " [4.390166028097062e-06,\n",
              "  1.863554387778336e-07,\n",
              "  2.374445782768431e-07,\n",
              "  2.482314636539491e-07,\n",
              "  4.430719656283566e-05,\n",
              "  6.320095605809892e-06,\n",
              "  1.758312020460358e-05,\n",
              "  2.235772357723577e-05,\n",
              "  1.221941628218705e-06,\n",
              "  2.6354459493994376e-05,\n",
              "  1.9931869246937738e-05,\n",
              "  4.0222319730876115e-05,\n",
              "  8.562532433834976e-05,\n",
              "  1.684257803727824e-05,\n",
              "  0.00014385353095030515,\n",
              "  6.495653817082389e-06,\n",
              "  1.3636147261134368e-07,\n",
              "  0.0004428341384863124,\n",
              "  9.954150579150579e-05,\n",
              "  0.0004428341384863124,\n",
              "  5.681818181818181e-05,\n",
              "  0.00019097222222222223,\n",
              "  7.1282919748392884e-06,\n",
              "  6.473342071168157e-08,\n",
              "  6.794199976776189e-07,\n",
              "  1.4411487265485798e-06,\n",
              "  1.3112805091265122e-06,\n",
              "  5.048418926981504e-07,\n",
              "  1.970102206514471e-05,\n",
              "  0.0103125,\n",
              "  3.813794378698225e-06,\n",
              "  0.0005514705882352941,\n",
              "  3.315943054204616e-08,\n",
              "  2.696078431372549e-05,\n",
              "  0.0032352941176470584,\n",
              "  3.7548471663420055e-06,\n",
              "  5.578640231800954e-07,\n",
              "  3.9254310837044645e-06,\n",
              "  1.0755632040050062e-05,\n",
              "  1.7696267696267695e-05,\n",
              "  0.00041666666666666664,\n",
              "  1.1655703241557031e-06,\n",
              "  1.0230654761904761e-05,\n",
              "  1.7520387359836903e-05,\n",
              "  0.0007753759398496239,\n",
              "  6.9576217583807706e-06,\n",
              "  0.0103125,\n",
              "  9.230665950590762e-06,\n",
              "  3.711201079622132e-06,\n",
              "  2.4406435488909713e-07])"
            ]
          },
          "metadata": {},
          "execution_count": 150
        }
      ]
    },
    {
      "cell_type": "code",
      "source": [
        "funcion22(votes[0])"
      ],
      "metadata": {
        "colab": {
          "base_uri": "https://localhost:8080/"
        },
        "id": "OrHgdTtbodlx",
        "outputId": "a95d225f-0560-4d23-b424-db8cb95bf3fe"
      },
      "execution_count": 151,
      "outputs": [
        {
          "output_type": "execute_result",
          "data": {
            "text/plain": [
              "(array([0.81308411, 0.92839506, 0.92741935, 0.83793103, 0.97938144,\n",
              "        0.89090909, 0.93406593, 0.92592593, 0.94444444, 0.95555556,\n",
              "        0.9125    , 0.82692308, 0.89130435, 0.84722222, 0.86111111,\n",
              "        0.6746988 , 0.93842887, 0.88461538, 0.77777778, 0.88461538,\n",
              "        0.76744186, 0.92307692, 0.81318681, 0.97882353, 0.92748092,\n",
              "        0.97577855, 0.87777778, 0.90671642, 0.66666667, 0.88888889,\n",
              "        0.95238095, 0.80952381, 0.97951583, 0.91891892, 0.9375    ,\n",
              "        0.89393939, 0.86752137, 0.91304348, 0.97142857, 0.8630137 ,\n",
              "        0.71428571, 0.9266055 , 0.92307692, 0.99539171, 0.77777778,\n",
              "        0.81521739, 0.71428571, 0.97350993, 0.88372093, 0.9379845 ]),\n",
              " array([4.39016603e-06, 1.86355439e-07, 2.37444578e-07, 2.48231464e-07,\n",
              "        4.43071966e-05, 6.32009561e-06, 1.75831202e-05, 2.23577236e-05,\n",
              "        1.22194163e-06, 2.63544595e-05, 1.99318692e-05, 4.02223197e-05,\n",
              "        8.56253243e-05, 1.68425780e-05, 1.43853531e-04, 6.49565382e-06,\n",
              "        1.36361473e-07, 4.42834138e-04, 9.95415058e-05, 4.42834138e-04,\n",
              "        5.68181818e-05, 1.90972222e-04, 7.12829197e-06, 6.47334207e-08,\n",
              "        6.79419998e-07, 1.44114873e-06, 1.31128051e-06, 5.04841893e-07,\n",
              "        1.97010221e-05, 1.03125000e-02, 3.81379438e-06, 5.51470588e-04,\n",
              "        3.31594305e-08, 2.69607843e-05, 3.23529412e-03, 3.75484717e-06,\n",
              "        5.57864023e-07, 3.92543108e-06, 1.07556320e-05, 1.76962677e-05,\n",
              "        4.16666667e-04, 1.16557032e-06, 1.02306548e-05, 1.75203874e-05,\n",
              "        7.75375940e-04, 6.95762176e-06, 1.03125000e-02, 9.23066595e-06,\n",
              "        3.71120108e-06, 2.44064355e-07]))"
            ]
          },
          "metadata": {},
          "execution_count": 151
        }
      ]
    },
    {
      "cell_type": "code",
      "source": [
        ""
      ],
      "metadata": {
        "id": "Xr3P_F7Cobxw"
      },
      "execution_count": null,
      "outputs": []
    },
    {
      "cell_type": "markdown",
      "metadata": {
        "cell_id": "00025-276ba904-2ebf-4b01-8355-00f104cd0aba",
        "deepnote_cell_type": "markdown",
        "id": "VhHhiTRYwpGu"
      },
      "source": [
        "## 1.4 Comparación de Rendimiento [2 Puntos]\n",
        "\n",
        "Creadas las funciones de la sección 1.3, de forma iterativa compare los diferentes batches de datos que contiene el diccionario `votes`. Para esto genere un gráfico utilizando plotly, donde se pueda observar las diferencias de tiempo que toma ejecutar las diferentes cantidades de datos. ¿es posible observar una diferencia? ¿a qué se deberá esto?.\n",
        "\n",
        "Aplique el compilador **Numba** sobre las funciones 1.3 y compare el tiempo de ejecución con los obtenidos sin el compilador. "
      ]
    },
    {
      "cell_type": "code",
      "source": [
        "from numba import jit\n",
        "@jit(nopython=True)\n",
        "def funcion11_numba(votos):\n",
        "  positivos=0\n",
        "  negativos=0\n",
        "  for i in range(len(votos)):\n",
        "    positivos = positivos+ votos[i][0]\n",
        "    negativos = negativos + votos[i][1]\n",
        "  a=1+positivos\n",
        "  b=1+negativos\n",
        "  media=a/(a+b)\n",
        "  desviación=1.65*(((a*b)/(((a*b)**2)*(a+b+1)))*0.5)\n",
        "  return media, desviación\n",
        "\n",
        "@jit(nopython=True)\n",
        "def funcion22_numba(votos):\n",
        "  a=1+np.sum((votos)[:,0])\n",
        "  b=1+np.sum((votos)[:,1])\n",
        "  media=a/(a+b)\n",
        "  desviación=1.65*(((a*b)/(((a*b)**2)*(a+b+1)))*0.5)\n",
        "  return media, desviación"
      ],
      "metadata": {
        "id": "8gQf1yNIm2dU"
      },
      "execution_count": 144,
      "outputs": []
    },
    {
      "cell_type": "code",
      "source": [
        "tiempo2=[]\n",
        "for i in range(len(votes)):\n",
        "  t0 = time.process_time()\n",
        "  funcion11(votes[i])\n",
        "  t1 = time.process_time()\n",
        "  funcion11_numba(votes[i])\n",
        "  t2 = time.process_time()\n",
        "  funcion22(votes[i])\n",
        "  t3 = time.process_time()\n",
        "  a=np.array(votes[i])\n",
        "  t4 = time.process_time()  \n",
        "  funcion22_numba(a)\n",
        "  t5 = time.process_time()\n",
        "  tiempo2.append([len(votes[i]),(t1-t0),(t2-t1),(t3-t2),(t5-t4)])\n",
        "\n",
        "df = pd.DataFrame(np.array(tiempo2), \n",
        "             columns=['Cantidades', \n",
        "                      'Función Nativa',\n",
        "                      'Función Nativa Numba', \n",
        "                      'Función Numpy',\n",
        "                      'Función Numpy Numba'])"
      ],
      "metadata": {
        "id": "TO5IRlsQm6H-"
      },
      "execution_count": 148,
      "outputs": []
    },
    {
      "cell_type": "code",
      "source": [
        "fig = px.line(df, x=\"Cantidades\", y=['Función Nativa','Función Nativa Numba','Función Numpy','Función Numpy Numba'])\n",
        "fig.show()"
      ],
      "metadata": {
        "colab": {
          "base_uri": "https://localhost:8080/",
          "height": 542
        },
        "id": "lYWey_6snCt6",
        "outputId": "74b704f2-97fe-4b18-e545-ebe6542e2bc1"
      },
      "execution_count": 149,
      "outputs": [
        {
          "output_type": "display_data",
          "data": {
            "text/html": [
              "<html>\n",
              "<head><meta charset=\"utf-8\" /></head>\n",
              "<body>\n",
              "    <div>            <script src=\"https://cdnjs.cloudflare.com/ajax/libs/mathjax/2.7.5/MathJax.js?config=TeX-AMS-MML_SVG\"></script><script type=\"text/javascript\">if (window.MathJax) {MathJax.Hub.Config({SVG: {font: \"STIX-Web\"}});}</script>                <script type=\"text/javascript\">window.PlotlyConfig = {MathJaxConfig: 'local'};</script>\n",
              "        <script src=\"https://cdn.plot.ly/plotly-latest.min.js\"></script>                <div id=\"47229348-d4a8-49ed-bf6c-9be996145b17\" class=\"plotly-graph-div\" style=\"height:525px; width:100%;\"></div>            <script type=\"text/javascript\">                                    window.PLOTLYENV=window.PLOTLYENV || {};                                    if (document.getElementById(\"47229348-d4a8-49ed-bf6c-9be996145b17\")) {                    Plotly.newPlot(                        \"47229348-d4a8-49ed-bf6c-9be996145b17\",                        [{\"hovertemplate\": \"variable=Funci\\u00f3n Nativa<br>Cantidades=%{x}<br>value=%{y}<extra></extra>\", \"legendgroup\": \"Funci\\u00f3n Nativa\", \"line\": {\"color\": \"#636efa\", \"dash\": \"solid\"}, \"mode\": \"lines\", \"name\": \"Funci\\u00f3n Nativa\", \"orientation\": \"v\", \"showlegend\": true, \"type\": \"scatter\", \"x\": [50.0, 100.0, 150.0, 200.0, 250.0, 300.0, 350.0, 400.0, 450.0, 500.0, 550.0, 600.0, 650.0, 700.0, 750.0, 800.0, 850.0, 900.0, 950.0], \"xaxis\": \"x\", \"y\": [0.00019485400000007758, 0.0003309860000086928, 0.0005011209999992161, 0.0006511410000058504, 0.0008099420000036162, 0.0009610650000126952, 0.0014191789999955517, 0.0012852090000023964, 0.0014672220000022662, 0.0017262020000003986, 0.001777614000005201, 0.0019493200000084698, 0.00209095799999659, 0.0022463060000035284, 0.00236779099999751, 0.002566708999992784, 0.0027847220000012385, 0.0028760599999912984, 0.002991555999997786], \"yaxis\": \"y\"}, {\"hovertemplate\": \"variable=Funci\\u00f3n Nativa Numba<br>Cantidades=%{x}<br>value=%{y}<extra></extra>\", \"legendgroup\": \"Funci\\u00f3n Nativa Numba\", \"line\": {\"color\": \"#EF553B\", \"dash\": \"solid\"}, \"mode\": \"lines\", \"name\": \"Funci\\u00f3n Nativa Numba\", \"orientation\": \"v\", \"showlegend\": true, \"type\": \"scatter\", \"x\": [50.0, 100.0, 150.0, 200.0, 250.0, 300.0, 350.0, 400.0, 450.0, 500.0, 550.0, 600.0, 650.0, 700.0, 750.0, 800.0, 850.0, 900.0, 950.0], \"xaxis\": \"x\", \"y\": [1.293199998997352e-05, 2.154000000587075e-06, 2.0319999975981773e-06, 2.715999997349172e-06, 2.0680000005768306e-06, 2.8559999947219694e-06, 1.1929999999438223e-05, 2.5060000012899764e-06, 6.600999995498569e-06, 5.851999986816736e-06, 3.879999994182981e-06, 3.4859999971104116e-06, 3.6409999921716008e-06, 3.339999992135745e-06, 3.1769999964126328e-06, 3.229000000715132e-06, 4.537999998888154e-06, 3.965000004768626e-06, 3.458000009004536e-06], \"yaxis\": \"y\"}, {\"hovertemplate\": \"variable=Funci\\u00f3n Numpy<br>Cantidades=%{x}<br>value=%{y}<extra></extra>\", \"legendgroup\": \"Funci\\u00f3n Numpy\", \"line\": {\"color\": \"#00cc96\", \"dash\": \"solid\"}, \"mode\": \"lines\", \"name\": \"Funci\\u00f3n Numpy\", \"orientation\": \"v\", \"showlegend\": true, \"type\": \"scatter\", \"x\": [50.0, 100.0, 150.0, 200.0, 250.0, 300.0, 350.0, 400.0, 450.0, 500.0, 550.0, 600.0, 650.0, 700.0, 750.0, 800.0, 850.0, 900.0, 950.0], \"xaxis\": \"x\", \"y\": [7.023100000935756e-05, 2.1157999995580212e-05, 2.1654999997622326e-05, 2.553800000271167e-05, 2.3648000009757197e-05, 2.745800000525378e-05, 4.6323000006509574e-05, 4.359700000122757e-05, 5.0090000002001034e-05, 3.3944000009000774e-05, 3.518100000121649e-05, 3.407699999513625e-05, 3.635100000565217e-05, 2.912200000082521e-05, 2.8272000008655596e-05, 3.4690000006776245e-05, 0.00015703200000416473, 3.3192999993048034e-05, 3.684099999645696e-05], \"yaxis\": \"y\"}, {\"hovertemplate\": \"variable=Funci\\u00f3n Numpy Numba<br>Cantidades=%{x}<br>value=%{y}<extra></extra>\", \"legendgroup\": \"Funci\\u00f3n Numpy Numba\", \"line\": {\"color\": \"#ab63fa\", \"dash\": \"solid\"}, \"mode\": \"lines\", \"name\": \"Funci\\u00f3n Numpy Numba\", \"orientation\": \"v\", \"showlegend\": true, \"type\": \"scatter\", \"x\": [50.0, 100.0, 150.0, 200.0, 250.0, 300.0, 350.0, 400.0, 450.0, 500.0, 550.0, 600.0, 650.0, 700.0, 750.0, 800.0, 850.0, 900.0, 950.0], \"xaxis\": \"x\", \"y\": [4.290000006790251e-06, 1.6589999916050147e-06, 1.711999999542968e-06, 1.8540000041866733e-06, 1.6210000097771626e-06, 2.0399999982601003e-06, 2.9879999914328437e-06, 1.913999994940241e-06, 3.870000000461005e-06, 2.399000010200325e-06, 2.1310000022367603e-06, 2.347999995322425e-06, 2.511000005256392e-06, 2.2189999953070583e-06, 1.9599999916408706e-06, 2.1489999966206597e-06, 3.5989999958019325e-06, 2.4840000065751155e-06, 2.3429999913560096e-06], \"yaxis\": \"y\"}],                        {\"legend\": {\"title\": {\"text\": \"variable\"}, \"tracegroupgap\": 0}, \"margin\": {\"t\": 60}, \"template\": {\"data\": {\"bar\": [{\"error_x\": {\"color\": \"#2a3f5f\"}, \"error_y\": {\"color\": \"#2a3f5f\"}, \"marker\": {\"line\": {\"color\": \"#E5ECF6\", \"width\": 0.5}}, \"type\": \"bar\"}], \"barpolar\": [{\"marker\": {\"line\": {\"color\": \"#E5ECF6\", \"width\": 0.5}}, \"type\": \"barpolar\"}], \"carpet\": [{\"aaxis\": {\"endlinecolor\": \"#2a3f5f\", \"gridcolor\": \"white\", \"linecolor\": \"white\", \"minorgridcolor\": \"white\", \"startlinecolor\": \"#2a3f5f\"}, \"baxis\": {\"endlinecolor\": \"#2a3f5f\", \"gridcolor\": \"white\", \"linecolor\": \"white\", \"minorgridcolor\": \"white\", \"startlinecolor\": \"#2a3f5f\"}, \"type\": \"carpet\"}], \"choropleth\": [{\"colorbar\": {\"outlinewidth\": 0, \"ticks\": \"\"}, \"type\": \"choropleth\"}], \"contour\": [{\"colorbar\": {\"outlinewidth\": 0, \"ticks\": \"\"}, \"colorscale\": [[0.0, \"#0d0887\"], [0.1111111111111111, \"#46039f\"], [0.2222222222222222, \"#7201a8\"], [0.3333333333333333, \"#9c179e\"], [0.4444444444444444, \"#bd3786\"], [0.5555555555555556, \"#d8576b\"], [0.6666666666666666, \"#ed7953\"], [0.7777777777777778, \"#fb9f3a\"], [0.8888888888888888, \"#fdca26\"], [1.0, \"#f0f921\"]], \"type\": \"contour\"}], \"contourcarpet\": [{\"colorbar\": {\"outlinewidth\": 0, \"ticks\": \"\"}, \"type\": \"contourcarpet\"}], \"heatmap\": [{\"colorbar\": {\"outlinewidth\": 0, \"ticks\": \"\"}, \"colorscale\": [[0.0, \"#0d0887\"], [0.1111111111111111, \"#46039f\"], [0.2222222222222222, \"#7201a8\"], [0.3333333333333333, \"#9c179e\"], [0.4444444444444444, \"#bd3786\"], [0.5555555555555556, \"#d8576b\"], [0.6666666666666666, \"#ed7953\"], [0.7777777777777778, \"#fb9f3a\"], [0.8888888888888888, \"#fdca26\"], [1.0, \"#f0f921\"]], \"type\": \"heatmap\"}], \"heatmapgl\": [{\"colorbar\": {\"outlinewidth\": 0, \"ticks\": \"\"}, \"colorscale\": [[0.0, \"#0d0887\"], [0.1111111111111111, \"#46039f\"], [0.2222222222222222, \"#7201a8\"], [0.3333333333333333, \"#9c179e\"], [0.4444444444444444, \"#bd3786\"], [0.5555555555555556, \"#d8576b\"], [0.6666666666666666, \"#ed7953\"], [0.7777777777777778, \"#fb9f3a\"], [0.8888888888888888, \"#fdca26\"], [1.0, \"#f0f921\"]], \"type\": \"heatmapgl\"}], \"histogram\": [{\"marker\": {\"colorbar\": {\"outlinewidth\": 0, \"ticks\": \"\"}}, \"type\": \"histogram\"}], \"histogram2d\": [{\"colorbar\": {\"outlinewidth\": 0, \"ticks\": \"\"}, \"colorscale\": [[0.0, \"#0d0887\"], [0.1111111111111111, \"#46039f\"], [0.2222222222222222, \"#7201a8\"], [0.3333333333333333, \"#9c179e\"], [0.4444444444444444, \"#bd3786\"], [0.5555555555555556, \"#d8576b\"], [0.6666666666666666, \"#ed7953\"], [0.7777777777777778, \"#fb9f3a\"], [0.8888888888888888, \"#fdca26\"], [1.0, \"#f0f921\"]], \"type\": \"histogram2d\"}], \"histogram2dcontour\": [{\"colorbar\": {\"outlinewidth\": 0, \"ticks\": \"\"}, \"colorscale\": [[0.0, \"#0d0887\"], [0.1111111111111111, \"#46039f\"], [0.2222222222222222, \"#7201a8\"], [0.3333333333333333, \"#9c179e\"], [0.4444444444444444, \"#bd3786\"], [0.5555555555555556, \"#d8576b\"], [0.6666666666666666, \"#ed7953\"], [0.7777777777777778, \"#fb9f3a\"], [0.8888888888888888, \"#fdca26\"], [1.0, \"#f0f921\"]], \"type\": \"histogram2dcontour\"}], \"mesh3d\": [{\"colorbar\": {\"outlinewidth\": 0, \"ticks\": \"\"}, \"type\": \"mesh3d\"}], \"parcoords\": [{\"line\": {\"colorbar\": {\"outlinewidth\": 0, \"ticks\": \"\"}}, \"type\": \"parcoords\"}], \"pie\": [{\"automargin\": true, \"type\": \"pie\"}], \"scatter\": [{\"marker\": {\"colorbar\": {\"outlinewidth\": 0, \"ticks\": \"\"}}, \"type\": \"scatter\"}], \"scatter3d\": [{\"line\": {\"colorbar\": {\"outlinewidth\": 0, \"ticks\": \"\"}}, \"marker\": {\"colorbar\": {\"outlinewidth\": 0, \"ticks\": \"\"}}, \"type\": \"scatter3d\"}], \"scattercarpet\": [{\"marker\": {\"colorbar\": {\"outlinewidth\": 0, \"ticks\": \"\"}}, \"type\": \"scattercarpet\"}], \"scattergeo\": [{\"marker\": {\"colorbar\": {\"outlinewidth\": 0, \"ticks\": \"\"}}, \"type\": \"scattergeo\"}], \"scattergl\": [{\"marker\": {\"colorbar\": {\"outlinewidth\": 0, \"ticks\": \"\"}}, \"type\": \"scattergl\"}], \"scattermapbox\": [{\"marker\": {\"colorbar\": {\"outlinewidth\": 0, \"ticks\": \"\"}}, \"type\": \"scattermapbox\"}], \"scatterpolar\": [{\"marker\": {\"colorbar\": {\"outlinewidth\": 0, \"ticks\": \"\"}}, \"type\": \"scatterpolar\"}], \"scatterpolargl\": [{\"marker\": {\"colorbar\": {\"outlinewidth\": 0, \"ticks\": \"\"}}, \"type\": \"scatterpolargl\"}], \"scatterternary\": [{\"marker\": {\"colorbar\": {\"outlinewidth\": 0, \"ticks\": \"\"}}, \"type\": \"scatterternary\"}], \"surface\": [{\"colorbar\": {\"outlinewidth\": 0, \"ticks\": \"\"}, \"colorscale\": [[0.0, \"#0d0887\"], [0.1111111111111111, \"#46039f\"], [0.2222222222222222, \"#7201a8\"], [0.3333333333333333, \"#9c179e\"], [0.4444444444444444, \"#bd3786\"], [0.5555555555555556, \"#d8576b\"], [0.6666666666666666, \"#ed7953\"], [0.7777777777777778, \"#fb9f3a\"], [0.8888888888888888, \"#fdca26\"], [1.0, \"#f0f921\"]], \"type\": \"surface\"}], \"table\": [{\"cells\": {\"fill\": {\"color\": \"#EBF0F8\"}, \"line\": {\"color\": \"white\"}}, \"header\": {\"fill\": {\"color\": \"#C8D4E3\"}, \"line\": {\"color\": \"white\"}}, \"type\": \"table\"}]}, \"layout\": {\"annotationdefaults\": {\"arrowcolor\": \"#2a3f5f\", \"arrowhead\": 0, \"arrowwidth\": 1}, \"autotypenumbers\": \"strict\", \"coloraxis\": {\"colorbar\": {\"outlinewidth\": 0, \"ticks\": \"\"}}, \"colorscale\": {\"diverging\": [[0, \"#8e0152\"], [0.1, \"#c51b7d\"], [0.2, \"#de77ae\"], [0.3, \"#f1b6da\"], [0.4, \"#fde0ef\"], [0.5, \"#f7f7f7\"], [0.6, \"#e6f5d0\"], [0.7, \"#b8e186\"], [0.8, \"#7fbc41\"], [0.9, \"#4d9221\"], [1, \"#276419\"]], \"sequential\": [[0.0, \"#0d0887\"], [0.1111111111111111, \"#46039f\"], [0.2222222222222222, \"#7201a8\"], [0.3333333333333333, \"#9c179e\"], [0.4444444444444444, \"#bd3786\"], [0.5555555555555556, \"#d8576b\"], [0.6666666666666666, \"#ed7953\"], [0.7777777777777778, \"#fb9f3a\"], [0.8888888888888888, \"#fdca26\"], [1.0, \"#f0f921\"]], \"sequentialminus\": [[0.0, \"#0d0887\"], [0.1111111111111111, \"#46039f\"], [0.2222222222222222, \"#7201a8\"], [0.3333333333333333, \"#9c179e\"], [0.4444444444444444, \"#bd3786\"], [0.5555555555555556, \"#d8576b\"], [0.6666666666666666, \"#ed7953\"], [0.7777777777777778, \"#fb9f3a\"], [0.8888888888888888, \"#fdca26\"], [1.0, \"#f0f921\"]]}, \"colorway\": [\"#636efa\", \"#EF553B\", \"#00cc96\", \"#ab63fa\", \"#FFA15A\", \"#19d3f3\", \"#FF6692\", \"#B6E880\", \"#FF97FF\", \"#FECB52\"], \"font\": {\"color\": \"#2a3f5f\"}, \"geo\": {\"bgcolor\": \"white\", \"lakecolor\": \"white\", \"landcolor\": \"#E5ECF6\", \"showlakes\": true, \"showland\": true, \"subunitcolor\": \"white\"}, \"hoverlabel\": {\"align\": \"left\"}, \"hovermode\": \"closest\", \"mapbox\": {\"style\": \"light\"}, \"paper_bgcolor\": \"white\", \"plot_bgcolor\": \"#E5ECF6\", \"polar\": {\"angularaxis\": {\"gridcolor\": \"white\", \"linecolor\": \"white\", \"ticks\": \"\"}, \"bgcolor\": \"#E5ECF6\", \"radialaxis\": {\"gridcolor\": \"white\", \"linecolor\": \"white\", \"ticks\": \"\"}}, \"scene\": {\"xaxis\": {\"backgroundcolor\": \"#E5ECF6\", \"gridcolor\": \"white\", \"gridwidth\": 2, \"linecolor\": \"white\", \"showbackground\": true, \"ticks\": \"\", \"zerolinecolor\": \"white\"}, \"yaxis\": {\"backgroundcolor\": \"#E5ECF6\", \"gridcolor\": \"white\", \"gridwidth\": 2, \"linecolor\": \"white\", \"showbackground\": true, \"ticks\": \"\", \"zerolinecolor\": \"white\"}, \"zaxis\": {\"backgroundcolor\": \"#E5ECF6\", \"gridcolor\": \"white\", \"gridwidth\": 2, \"linecolor\": \"white\", \"showbackground\": true, \"ticks\": \"\", \"zerolinecolor\": \"white\"}}, \"shapedefaults\": {\"line\": {\"color\": \"#2a3f5f\"}}, \"ternary\": {\"aaxis\": {\"gridcolor\": \"white\", \"linecolor\": \"white\", \"ticks\": \"\"}, \"baxis\": {\"gridcolor\": \"white\", \"linecolor\": \"white\", \"ticks\": \"\"}, \"bgcolor\": \"#E5ECF6\", \"caxis\": {\"gridcolor\": \"white\", \"linecolor\": \"white\", \"ticks\": \"\"}}, \"title\": {\"x\": 0.05}, \"xaxis\": {\"automargin\": true, \"gridcolor\": \"white\", \"linecolor\": \"white\", \"ticks\": \"\", \"title\": {\"standoff\": 15}, \"zerolinecolor\": \"white\", \"zerolinewidth\": 2}, \"yaxis\": {\"automargin\": true, \"gridcolor\": \"white\", \"linecolor\": \"white\", \"ticks\": \"\", \"title\": {\"standoff\": 15}, \"zerolinecolor\": \"white\", \"zerolinewidth\": 2}}}, \"xaxis\": {\"anchor\": \"y\", \"domain\": [0.0, 1.0], \"title\": {\"text\": \"Cantidades\"}}, \"yaxis\": {\"anchor\": \"x\", \"domain\": [0.0, 1.0], \"title\": {\"text\": \"value\"}}},                        {\"responsive\": true}                    ).then(function(){\n",
              "                            \n",
              "var gd = document.getElementById('47229348-d4a8-49ed-bf6c-9be996145b17');\n",
              "var x = new MutationObserver(function (mutations, observer) {{\n",
              "        var display = window.getComputedStyle(gd).display;\n",
              "        if (!display || display === 'none') {{\n",
              "            console.log([gd, 'removed!']);\n",
              "            Plotly.purge(gd);\n",
              "            observer.disconnect();\n",
              "        }}\n",
              "}});\n",
              "\n",
              "// Listen for the removal of the full notebook cells\n",
              "var notebookContainer = gd.closest('#notebook-container');\n",
              "if (notebookContainer) {{\n",
              "    x.observe(notebookContainer, {childList: true});\n",
              "}}\n",
              "\n",
              "// Listen for the clearing of the current output cell\n",
              "var outputEl = gd.closest('.output');\n",
              "if (outputEl) {{\n",
              "    x.observe(outputEl, {childList: true});\n",
              "}}\n",
              "\n",
              "                        })                };                            </script>        </div>\n",
              "</body>\n",
              "</html>"
            ]
          },
          "metadata": {}
        }
      ]
    },
    {
      "cell_type": "markdown",
      "metadata": {
        "id": "Fur74faogvCm"
      },
      "source": [
        "Ahora, grafiquen los tiempos tomados y comente los desempeños.\n",
        "\n",
        "**Nota:** Ejecuten las funciones compiladas con algún ejemplo antes de graficar. De lo contrario, les indicará el tiempo de compilación, cosa que no queremos medir"
      ]
    },
    {
      "cell_type": "markdown",
      "source": [
        "Podemos ver que el orden de rendimiento de las funciones son las Numba tanto en numpy como nativa son las más rápidas. Luego la función cn nupy y finalmente la que más aumenta el tiempo de ejecución según la cantidad de elementos es la nativa.\n",
        "\n",
        "Si se hac zoom en el gráfico (no se alcanza a apreciar en sin zoom) la función numpy usando numba es más rápida que la nativa."
      ],
      "metadata": {
        "id": "FPDI2v9ReLDy"
      }
    },
    {
      "cell_type": "markdown",
      "metadata": {
        "cell_id": "00028-19d4d7d5-b8cc-4e02-b9b1-661b163db40b",
        "deepnote_cell_type": "markdown",
        "id": "DljdJw8m0gYC"
      },
      "source": [
        "## 1.5 Plot de Resultados [1 Punto]"
      ]
    },
    {
      "cell_type": "markdown",
      "metadata": {
        "cell_id": "00029-a2d26faa-9a0c-4654-b90a-8afea2987c40",
        "deepnote_cell_type": "markdown",
        "id": "cQAxOM5D08Hl"
      },
      "source": [
        "Llego la hora de visualizar los resultados obtenidos, para esto solo ejecute las siguientes celdas y observe lo que sucede :3. ¿Qué logra observar de los resultados?, ¿La solución resulta trivial?\n",
        "\n",
        "En esta sección esperamos que solo comenten con lo que logran visualizar de los dataframes."
      ]
    },
    {
      "cell_type": "code",
      "source": [
        "votos = votes[len(votes) - 1]\n",
        "posteo = post[len(post) - 1]\n",
        "print(\"lower bounds aproximados:\")\n",
        "posterior_mean, std_err = funcion22(votos)\n",
        "lb = posterior_mean - std_err\n",
        "print(\"\\nTop 20 post ordenador por el limite inferior:\\n\")\n",
        "order = np.argsort(-lb)\n",
        "vote_post = {\n",
        "    'Votos (+)': votos[order[:20], 0],\n",
        "    'Votos (-)': votos[order[:20], 1],\n",
        "    'Post': np.array(posteo)[order[:20]],\n",
        "    'url': np.array(url[len(url) - 1])[order[:20]]\n",
        "}\n",
        "df = pd.DataFrame(data=vote_post)\n",
        "ordered_post = df.Post\n",
        "\n",
        "r_order = order[::-1][-20:]\n",
        "data_dic = {\n",
        "    'mean': posterior_mean[r_order],\n",
        "    'std_err': std_err[r_order],\n",
        "    'post': ordered_post[::-1]\n",
        "}\n",
        "df = pd.DataFrame(data=data_dic)\n",
        "fig = px.scatter(df, x=\"mean\", y=\"post\", error_x=\"std_err\")\n",
        "fig.show()"
      ],
      "metadata": {
        "colab": {
          "base_uri": "https://localhost:8080/",
          "height": 615
        },
        "id": "_b4q96_OjK3l",
        "outputId": "1e63402b-4f76-49ba-b01f-128af3ef302c"
      },
      "execution_count": 152,
      "outputs": [
        {
          "output_type": "stream",
          "name": "stdout",
          "text": [
            "lower bounds aproximados:\n",
            "\n",
            "Top 20 post ordenador por el limite inferior:\n",
            "\n"
          ]
        },
        {
          "output_type": "display_data",
          "data": {
            "text/html": [
              "<html>\n",
              "<head><meta charset=\"utf-8\" /></head>\n",
              "<body>\n",
              "    <div>            <script src=\"https://cdnjs.cloudflare.com/ajax/libs/mathjax/2.7.5/MathJax.js?config=TeX-AMS-MML_SVG\"></script><script type=\"text/javascript\">if (window.MathJax) {MathJax.Hub.Config({SVG: {font: \"STIX-Web\"}});}</script>                <script type=\"text/javascript\">window.PlotlyConfig = {MathJaxConfig: 'local'};</script>\n",
              "        <script src=\"https://cdn.plot.ly/plotly-latest.min.js\"></script>                <div id=\"fd126cac-af26-41bf-b27f-fa9e4824b125\" class=\"plotly-graph-div\" style=\"height:525px; width:100%;\"></div>            <script type=\"text/javascript\">                                    window.PLOTLYENV=window.PLOTLYENV || {};                                    if (document.getElementById(\"fd126cac-af26-41bf-b27f-fa9e4824b125\")) {                    Plotly.newPlot(                        \"fd126cac-af26-41bf-b27f-fa9e4824b125\",                        [{\"error_x\": {\"array\": [2.2939606272939607e-07, 2.2735690569731602e-07, 3.3292131798101985e-07, 1.7179482907976278e-06, 1.4252123695995463e-07, 3.714881536255262e-08, 8.952794357026586e-05, 6.02717708942139e-05, 5.4534637757800106e-05, 4.664179104477612e-05, 4.09165302782324e-05, 3.924086757990867e-05, 2.2853818665336988e-05, 1.7520387359836903e-05, 1.6010712622263622e-05, 1.4204545454545453e-05, 1.0301168714414144e-05, 8.056719303899452e-06, 4.1849494001572525e-06, 2.640168970814132e-06]}, \"hovertemplate\": \"mean=%{x}<br>post=%{y}<extra></extra>\", \"legendgroup\": \"\", \"marker\": {\"color\": \"#636efa\", \"symbol\": \"circle\"}, \"mode\": \"markers\", \"name\": \"\", \"orientation\": \"h\", \"showlegend\": false, \"type\": \"scatter\", \"x\": [0.9881305637982196, 0.9881831610044313, 0.9882943143812709, 0.9885057471264368, 0.988833746898263, 0.9889415481832543, 0.9895833333333334, 0.9914529914529915, 0.991869918699187, 0.9924812030075187, 0.9929577464788732, 0.993103448275862, 0.9947368421052631, 0.9953917050691244, 0.9955947136563876, 0.995850622406639, 0.9964664310954063, 0.996875, 0.9977477477477478, 0.998211091234347], \"xaxis\": \"x\", \"y\": [\"El crossover que nadie pidi\\u00f3, pero todos necesit\\u00e1bamos\", \"Finalmente\", \"Error en zoom\", \"Esto no es verdad cierto?\", \"Te vas un finde de r/Chile y cuando vuelves...\", \"Fotograf\\u00eda de un solitario autom\\u00f3vil conduciendo por las cercan\\u00edas de Osorno. 1939. A color.\", \"Sernac acusa al Banco de Chile y al BCI de millonarios cobros indebidos a clientes | Economia\", \"Tribunal autoriza entrega de fichas m\\u00e9dicas completas de Rojas Vade a la Fiscal\\u00eda\", \"Revolucionario hallazgo: Descubren dinosaurio en Chile con una cola nunca antes vista\", \"Conaf expulsa del Parque Nacional Torres del Paine a dos turistas por usar cocinilla en lugar no habilitado: fueron denunciados en fiscal\\u00eda\", \"Universidad de Chile crea un medicamento que promete prevenir y eliminar las caries\", \"Me estafaron en YAPO.CL: C\\u00f3mo evitarlo y v\\u00edas legales\", \"Municipalidad de Maip\\u00fa presentar\\u00e1 querella criminal contra Cathy Barriga por fraude al Fisco | Nacional\", \"Parque nacional Conguill\\u00edo - Regi\\u00f3n de la Araucan\\u00eda\", \"\\u201cVista general de Santiago, Chile, desde Apoquindo\\u201d, pintura de Marianne North (1884)\", \"Eclipse Solar desde la base chilena Glaciar Uni\\u00f3n - 4:04 a.m de hoy s\\u00e1bado 04/12/2021\", \"Temuco a las 1:30 AM.\", \"Me encontr\\u00e9 un tramoya de 31 minutos en la feria\", \"Pud\\u00fa en Ruta a Caleta Gonzalo\", \"\\u00a1Estamos de vuelta! Hace mucho tiempo que no publicaba algo de BuildTheEarth: Chile\\u2026 aqu\\u00ed est\\u00e1 la Plaza de Armas de Santiago y las cuadras adyacentes, construidas en Minecraft a escala 1:1. \\ud83c\\udde8\\ud83c\\uddf1\"], \"yaxis\": \"y\"}],                        {\"legend\": {\"tracegroupgap\": 0}, \"margin\": {\"t\": 60}, \"template\": {\"data\": {\"bar\": [{\"error_x\": {\"color\": \"#2a3f5f\"}, \"error_y\": {\"color\": \"#2a3f5f\"}, \"marker\": {\"line\": {\"color\": \"#E5ECF6\", \"width\": 0.5}}, \"type\": \"bar\"}], \"barpolar\": [{\"marker\": {\"line\": {\"color\": \"#E5ECF6\", \"width\": 0.5}}, \"type\": \"barpolar\"}], \"carpet\": [{\"aaxis\": {\"endlinecolor\": \"#2a3f5f\", \"gridcolor\": \"white\", \"linecolor\": \"white\", \"minorgridcolor\": \"white\", \"startlinecolor\": \"#2a3f5f\"}, \"baxis\": {\"endlinecolor\": \"#2a3f5f\", \"gridcolor\": \"white\", \"linecolor\": \"white\", \"minorgridcolor\": \"white\", \"startlinecolor\": \"#2a3f5f\"}, \"type\": \"carpet\"}], \"choropleth\": [{\"colorbar\": {\"outlinewidth\": 0, \"ticks\": \"\"}, \"type\": \"choropleth\"}], \"contour\": [{\"colorbar\": {\"outlinewidth\": 0, \"ticks\": \"\"}, \"colorscale\": [[0.0, \"#0d0887\"], [0.1111111111111111, \"#46039f\"], [0.2222222222222222, \"#7201a8\"], [0.3333333333333333, \"#9c179e\"], [0.4444444444444444, \"#bd3786\"], [0.5555555555555556, \"#d8576b\"], [0.6666666666666666, \"#ed7953\"], [0.7777777777777778, \"#fb9f3a\"], [0.8888888888888888, \"#fdca26\"], [1.0, \"#f0f921\"]], \"type\": \"contour\"}], \"contourcarpet\": [{\"colorbar\": {\"outlinewidth\": 0, \"ticks\": \"\"}, \"type\": \"contourcarpet\"}], \"heatmap\": [{\"colorbar\": {\"outlinewidth\": 0, \"ticks\": \"\"}, \"colorscale\": [[0.0, \"#0d0887\"], [0.1111111111111111, \"#46039f\"], [0.2222222222222222, \"#7201a8\"], [0.3333333333333333, \"#9c179e\"], [0.4444444444444444, \"#bd3786\"], [0.5555555555555556, \"#d8576b\"], [0.6666666666666666, \"#ed7953\"], [0.7777777777777778, \"#fb9f3a\"], [0.8888888888888888, \"#fdca26\"], [1.0, \"#f0f921\"]], \"type\": \"heatmap\"}], \"heatmapgl\": [{\"colorbar\": {\"outlinewidth\": 0, \"ticks\": \"\"}, \"colorscale\": [[0.0, \"#0d0887\"], [0.1111111111111111, \"#46039f\"], [0.2222222222222222, \"#7201a8\"], [0.3333333333333333, \"#9c179e\"], [0.4444444444444444, \"#bd3786\"], [0.5555555555555556, \"#d8576b\"], [0.6666666666666666, \"#ed7953\"], [0.7777777777777778, \"#fb9f3a\"], [0.8888888888888888, \"#fdca26\"], [1.0, \"#f0f921\"]], \"type\": \"heatmapgl\"}], \"histogram\": [{\"marker\": {\"colorbar\": {\"outlinewidth\": 0, \"ticks\": \"\"}}, \"type\": \"histogram\"}], \"histogram2d\": [{\"colorbar\": {\"outlinewidth\": 0, \"ticks\": \"\"}, \"colorscale\": [[0.0, \"#0d0887\"], [0.1111111111111111, \"#46039f\"], [0.2222222222222222, \"#7201a8\"], [0.3333333333333333, \"#9c179e\"], [0.4444444444444444, \"#bd3786\"], [0.5555555555555556, \"#d8576b\"], [0.6666666666666666, \"#ed7953\"], [0.7777777777777778, \"#fb9f3a\"], [0.8888888888888888, \"#fdca26\"], [1.0, \"#f0f921\"]], \"type\": \"histogram2d\"}], \"histogram2dcontour\": [{\"colorbar\": {\"outlinewidth\": 0, \"ticks\": \"\"}, \"colorscale\": [[0.0, \"#0d0887\"], [0.1111111111111111, \"#46039f\"], [0.2222222222222222, \"#7201a8\"], [0.3333333333333333, \"#9c179e\"], [0.4444444444444444, \"#bd3786\"], [0.5555555555555556, \"#d8576b\"], [0.6666666666666666, \"#ed7953\"], [0.7777777777777778, \"#fb9f3a\"], [0.8888888888888888, \"#fdca26\"], [1.0, \"#f0f921\"]], \"type\": \"histogram2dcontour\"}], \"mesh3d\": [{\"colorbar\": {\"outlinewidth\": 0, \"ticks\": \"\"}, \"type\": \"mesh3d\"}], \"parcoords\": [{\"line\": {\"colorbar\": {\"outlinewidth\": 0, \"ticks\": \"\"}}, \"type\": \"parcoords\"}], \"pie\": [{\"automargin\": true, \"type\": \"pie\"}], \"scatter\": [{\"marker\": {\"colorbar\": {\"outlinewidth\": 0, \"ticks\": \"\"}}, \"type\": \"scatter\"}], \"scatter3d\": [{\"line\": {\"colorbar\": {\"outlinewidth\": 0, \"ticks\": \"\"}}, \"marker\": {\"colorbar\": {\"outlinewidth\": 0, \"ticks\": \"\"}}, \"type\": \"scatter3d\"}], \"scattercarpet\": [{\"marker\": {\"colorbar\": {\"outlinewidth\": 0, \"ticks\": \"\"}}, \"type\": \"scattercarpet\"}], \"scattergeo\": [{\"marker\": {\"colorbar\": {\"outlinewidth\": 0, \"ticks\": \"\"}}, \"type\": \"scattergeo\"}], \"scattergl\": [{\"marker\": {\"colorbar\": {\"outlinewidth\": 0, \"ticks\": \"\"}}, \"type\": \"scattergl\"}], \"scattermapbox\": [{\"marker\": {\"colorbar\": {\"outlinewidth\": 0, \"ticks\": \"\"}}, \"type\": \"scattermapbox\"}], \"scatterpolar\": [{\"marker\": {\"colorbar\": {\"outlinewidth\": 0, \"ticks\": \"\"}}, \"type\": \"scatterpolar\"}], \"scatterpolargl\": [{\"marker\": {\"colorbar\": {\"outlinewidth\": 0, \"ticks\": \"\"}}, \"type\": \"scatterpolargl\"}], \"scatterternary\": [{\"marker\": {\"colorbar\": {\"outlinewidth\": 0, \"ticks\": \"\"}}, \"type\": \"scatterternary\"}], \"surface\": [{\"colorbar\": {\"outlinewidth\": 0, \"ticks\": \"\"}, \"colorscale\": [[0.0, \"#0d0887\"], [0.1111111111111111, \"#46039f\"], [0.2222222222222222, \"#7201a8\"], [0.3333333333333333, \"#9c179e\"], [0.4444444444444444, \"#bd3786\"], [0.5555555555555556, \"#d8576b\"], [0.6666666666666666, \"#ed7953\"], [0.7777777777777778, \"#fb9f3a\"], [0.8888888888888888, \"#fdca26\"], [1.0, \"#f0f921\"]], \"type\": \"surface\"}], \"table\": [{\"cells\": {\"fill\": {\"color\": \"#EBF0F8\"}, \"line\": {\"color\": \"white\"}}, \"header\": {\"fill\": {\"color\": \"#C8D4E3\"}, \"line\": {\"color\": \"white\"}}, \"type\": \"table\"}]}, \"layout\": {\"annotationdefaults\": {\"arrowcolor\": \"#2a3f5f\", \"arrowhead\": 0, \"arrowwidth\": 1}, \"autotypenumbers\": \"strict\", \"coloraxis\": {\"colorbar\": {\"outlinewidth\": 0, \"ticks\": \"\"}}, \"colorscale\": {\"diverging\": [[0, \"#8e0152\"], [0.1, \"#c51b7d\"], [0.2, \"#de77ae\"], [0.3, \"#f1b6da\"], [0.4, \"#fde0ef\"], [0.5, \"#f7f7f7\"], [0.6, \"#e6f5d0\"], [0.7, \"#b8e186\"], [0.8, \"#7fbc41\"], [0.9, \"#4d9221\"], [1, \"#276419\"]], \"sequential\": [[0.0, \"#0d0887\"], [0.1111111111111111, \"#46039f\"], [0.2222222222222222, \"#7201a8\"], [0.3333333333333333, \"#9c179e\"], [0.4444444444444444, \"#bd3786\"], [0.5555555555555556, \"#d8576b\"], [0.6666666666666666, \"#ed7953\"], [0.7777777777777778, \"#fb9f3a\"], [0.8888888888888888, \"#fdca26\"], [1.0, \"#f0f921\"]], \"sequentialminus\": [[0.0, \"#0d0887\"], [0.1111111111111111, \"#46039f\"], [0.2222222222222222, \"#7201a8\"], [0.3333333333333333, \"#9c179e\"], [0.4444444444444444, \"#bd3786\"], [0.5555555555555556, \"#d8576b\"], [0.6666666666666666, \"#ed7953\"], [0.7777777777777778, \"#fb9f3a\"], [0.8888888888888888, \"#fdca26\"], [1.0, \"#f0f921\"]]}, \"colorway\": [\"#636efa\", \"#EF553B\", \"#00cc96\", \"#ab63fa\", \"#FFA15A\", \"#19d3f3\", \"#FF6692\", \"#B6E880\", \"#FF97FF\", \"#FECB52\"], \"font\": {\"color\": \"#2a3f5f\"}, \"geo\": {\"bgcolor\": \"white\", \"lakecolor\": \"white\", \"landcolor\": \"#E5ECF6\", \"showlakes\": true, \"showland\": true, \"subunitcolor\": \"white\"}, \"hoverlabel\": {\"align\": \"left\"}, \"hovermode\": \"closest\", \"mapbox\": {\"style\": \"light\"}, \"paper_bgcolor\": \"white\", \"plot_bgcolor\": \"#E5ECF6\", \"polar\": {\"angularaxis\": {\"gridcolor\": \"white\", \"linecolor\": \"white\", \"ticks\": \"\"}, \"bgcolor\": \"#E5ECF6\", \"radialaxis\": {\"gridcolor\": \"white\", \"linecolor\": \"white\", \"ticks\": \"\"}}, \"scene\": {\"xaxis\": {\"backgroundcolor\": \"#E5ECF6\", \"gridcolor\": \"white\", \"gridwidth\": 2, \"linecolor\": \"white\", \"showbackground\": true, \"ticks\": \"\", \"zerolinecolor\": \"white\"}, \"yaxis\": {\"backgroundcolor\": \"#E5ECF6\", \"gridcolor\": \"white\", \"gridwidth\": 2, \"linecolor\": \"white\", \"showbackground\": true, \"ticks\": \"\", \"zerolinecolor\": \"white\"}, \"zaxis\": {\"backgroundcolor\": \"#E5ECF6\", \"gridcolor\": \"white\", \"gridwidth\": 2, \"linecolor\": \"white\", \"showbackground\": true, \"ticks\": \"\", \"zerolinecolor\": \"white\"}}, \"shapedefaults\": {\"line\": {\"color\": \"#2a3f5f\"}}, \"ternary\": {\"aaxis\": {\"gridcolor\": \"white\", \"linecolor\": \"white\", \"ticks\": \"\"}, \"baxis\": {\"gridcolor\": \"white\", \"linecolor\": \"white\", \"ticks\": \"\"}, \"bgcolor\": \"#E5ECF6\", \"caxis\": {\"gridcolor\": \"white\", \"linecolor\": \"white\", \"ticks\": \"\"}}, \"title\": {\"x\": 0.05}, \"xaxis\": {\"automargin\": true, \"gridcolor\": \"white\", \"linecolor\": \"white\", \"ticks\": \"\", \"title\": {\"standoff\": 15}, \"zerolinecolor\": \"white\", \"zerolinewidth\": 2}, \"yaxis\": {\"automargin\": true, \"gridcolor\": \"white\", \"linecolor\": \"white\", \"ticks\": \"\", \"title\": {\"standoff\": 15}, \"zerolinecolor\": \"white\", \"zerolinewidth\": 2}}}, \"xaxis\": {\"anchor\": \"y\", \"domain\": [0.0, 1.0], \"title\": {\"text\": \"mean\"}}, \"yaxis\": {\"anchor\": \"x\", \"domain\": [0.0, 1.0], \"title\": {\"text\": \"post\"}}},                        {\"responsive\": true}                    ).then(function(){\n",
              "                            \n",
              "var gd = document.getElementById('fd126cac-af26-41bf-b27f-fa9e4824b125');\n",
              "var x = new MutationObserver(function (mutations, observer) {{\n",
              "        var display = window.getComputedStyle(gd).display;\n",
              "        if (!display || display === 'none') {{\n",
              "            console.log([gd, 'removed!']);\n",
              "            Plotly.purge(gd);\n",
              "            observer.disconnect();\n",
              "        }}\n",
              "}});\n",
              "\n",
              "// Listen for the removal of the full notebook cells\n",
              "var notebookContainer = gd.closest('#notebook-container');\n",
              "if (notebookContainer) {{\n",
              "    x.observe(notebookContainer, {childList: true});\n",
              "}}\n",
              "\n",
              "// Listen for the clearing of the current output cell\n",
              "var outputEl = gd.closest('.output');\n",
              "if (outputEl) {{\n",
              "    x.observe(outputEl, {childList: true});\n",
              "}}\n",
              "\n",
              "                        })                };                            </script>        </div>\n",
              "</body>\n",
              "</html>"
            ]
          },
          "metadata": {}
        }
      ]
    },
    {
      "cell_type": "markdown",
      "metadata": {
        "cell_id": "00032-d71a3ab5-0048-4d25-a4d8-341d7cab6421",
        "deepnote_cell_type": "markdown",
        "id": "szOjXLKA1Rif"
      },
      "source": [
        "**Respuesta:**"
      ]
    },
    {
      "cell_type": "markdown",
      "metadata": {
        "cell_id": "00033-959c9ac0-1d28-4b75-9d1b-6a404fb2b1da",
        "deepnote_cell_type": "markdown",
        "id": "0F83QdD61Pd1"
      },
      "source": [
        "En la visualización se puede apreciar los 20 post de reddit ordenados de mayor a menor por su media posterior, la que estadísticamente representa la probabilidad un post sea bueno. Podemos ver que el post con mayor probalididad es que le guste al lector es el que empieza con ¡Estamos de vuelrta!, con un valor de 0.998% de probabilidad de que al lector de lo considere positivo. En cambio el post número 20 dentro de este ranking es \"El crossover que nadie pidió, pero que todos necesitabamos\". \n",
        "\n",
        "Además podemo obtener las desviaciones estandar de cada uno de estos post, la con mayor desvuación es la de \"Sernac acusa a Banco de Chile (...)\". "
      ]
    },
    {
      "cell_type": "markdown",
      "metadata": {
        "cell_id": "00034-99362e55-ff3e-4160-b715-f235e1edf941",
        "deepnote_cell_type": "markdown",
        "id": "Rg4ZMq8ezAH6"
      },
      "source": [
        "<p align=\"center\">\n",
        "  <img src=\"https://media1.tenor.com/images/fb5bf7cc5a4acb91b4177672886a88ba/tenor.gif?itemid=5591338\">\n",
        "</p>"
      ]
    }
  ],
  "metadata": {
    "colab": {
      "collapsed_sections": [],
      "name": "Lab9_Enunciado.ipynb",
      "provenance": []
    },
    "deepnote": {},
    "deepnote_execution_queue": [],
    "deepnote_notebook_id": "5d40e96b-943c-437d-9a87-f692c1b738de",
    "kernelspec": {
      "display_name": "Python 3 (ipykernel)",
      "language": "python",
      "name": "python3"
    },
    "language_info": {
      "codemirror_mode": {
        "name": "ipython",
        "version": 3
      },
      "file_extension": ".py",
      "mimetype": "text/x-python",
      "name": "python",
      "nbconvert_exporter": "python",
      "pygments_lexer": "ipython3",
      "version": "3.9.7"
    },
    "toc": {
      "base_numbering": 1,
      "nav_menu": {},
      "number_sections": true,
      "sideBar": true,
      "skip_h1_title": true,
      "title_cell": "Tabla de Contenidos",
      "title_sidebar": "Contenidos",
      "toc_cell": false,
      "toc_position": {
        "height": "calc(100% - 180px)",
        "left": "10px",
        "top": "150px",
        "width": "241.867px"
      },
      "toc_section_display": true,
      "toc_window_display": true
    },
    "varInspector": {
      "cols": {
        "lenName": 16,
        "lenType": 16,
        "lenVar": 40
      },
      "kernels_config": {
        "python": {
          "delete_cmd_postfix": "",
          "delete_cmd_prefix": "del ",
          "library": "var_list.py",
          "varRefreshCmd": "print(var_dic_list())"
        },
        "r": {
          "delete_cmd_postfix": ") ",
          "delete_cmd_prefix": "rm(",
          "library": "var_list.r",
          "varRefreshCmd": "cat(var_dic_list()) "
        }
      },
      "types_to_exclude": [
        "module",
        "function",
        "builtin_function_or_method",
        "instance",
        "_Feature"
      ],
      "window_display": false
    }
  },
  "nbformat": 4,
  "nbformat_minor": 0
}